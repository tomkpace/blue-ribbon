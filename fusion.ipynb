{
 "metadata": {
  "language_info": {
   "codemirror_mode": {
    "name": "ipython",
    "version": 3
   },
   "file_extension": ".py",
   "mimetype": "text/x-python",
   "name": "python",
   "nbconvert_exporter": "python",
   "pygments_lexer": "ipython3",
   "version": "3.7.3"
  },
  "orig_nbformat": 2,
  "kernelspec": {
   "name": "python37364bitbaseconda695c26050d2f45bb8896ce2b0036a0bd",
   "display_name": "Python 3.7.3 64-bit ('base': conda)"
  },
  "metadata": {
   "interpreter": {
    "hash": "63d0a0a306d17f9618fcd2df71f8943413e3c03229e5631c7d32ac919a8133cf"
   }
  }
 },
 "nbformat": 4,
 "nbformat_minor": 2,
 "cells": [
  {
   "cell_type": "code",
   "execution_count": 1,
   "metadata": {},
   "outputs": [],
   "source": [
    "import os\n",
    "import pandas as pd\n",
    "import dask.dataframe as dd\n",
    "from knowledge_graph_generator import KnowledgeGraphGenerator\n",
    "from fusion import TransE, TransEFuser\n",
    "\n",
    "import seaborn as sns\n",
    "import matplotlib.pyplot as plt\n"
   ]
  },
  {
   "cell_type": "code",
   "execution_count": 24,
   "metadata": {},
   "outputs": [
    {
     "output_type": "display_data",
     "data": {
      "text/plain": "HBox(children=(HTML(value=''), FloatProgress(value=0.0, max=277.0), HTML(value='')))",
      "application/vnd.jupyter.widget-view+json": {
       "version_major": 2,
       "version_minor": 0,
       "model_id": "1026f36dc57840d29e5fcea8ed2ab1dc"
      }
     },
     "metadata": {}
    },
    {
     "output_type": "stream",
     "name": "stdout",
     "text": [
      "\n"
     ]
    },
    {
     "output_type": "display_data",
     "data": {
      "text/plain": "HBox(children=(HTML(value=''), FloatProgress(value=0.0, max=6052.0), HTML(value='')))",
      "application/vnd.jupyter.widget-view+json": {
       "version_major": 2,
       "version_minor": 0,
       "model_id": "a3411a98874e4d95b69193be93c211e6"
      }
     },
     "metadata": {}
    },
    {
     "output_type": "stream",
     "name": "stdout",
     "text": [
      "\n"
     ]
    },
    {
     "output_type": "display_data",
     "data": {
      "text/plain": "HBox(children=(HTML(value=''), FloatProgress(value=0.0, max=2259.0), HTML(value='')))",
      "application/vnd.jupyter.widget-view+json": {
       "version_major": 2,
       "version_minor": 0,
       "model_id": "59dbb0739329448586dac67c66732b46"
      }
     },
     "metadata": {}
    },
    {
     "output_type": "stream",
     "name": "stdout",
     "text": [
      "\n"
     ]
    },
    {
     "output_type": "display_data",
     "data": {
      "text/plain": "HBox(children=(HTML(value=''), FloatProgress(value=0.0, max=280.0), HTML(value='')))",
      "application/vnd.jupyter.widget-view+json": {
       "version_major": 2,
       "version_minor": 0,
       "model_id": "69f3f130d5064301991bcee153999152"
      }
     },
     "metadata": {}
    },
    {
     "output_type": "stream",
     "name": "stdout",
     "text": [
      "\n"
     ]
    },
    {
     "output_type": "display_data",
     "data": {
      "text/plain": "HBox(children=(HTML(value=''), FloatProgress(value=0.0, max=81.0), HTML(value='')))",
      "application/vnd.jupyter.widget-view+json": {
       "version_major": 2,
       "version_minor": 0,
       "model_id": "e04406a1f86b431e9bb937a0d4792dfa"
      }
     },
     "metadata": {}
    },
    {
     "output_type": "stream",
     "name": "stdout",
     "text": [
      "\n"
     ]
    },
    {
     "output_type": "display_data",
     "data": {
      "text/plain": "HBox(children=(HTML(value=''), FloatProgress(value=0.0, max=35.0), HTML(value='')))",
      "application/vnd.jupyter.widget-view+json": {
       "version_major": 2,
       "version_minor": 0,
       "model_id": "b061625de0834541995b2e8bb8685748"
      }
     },
     "metadata": {}
    },
    {
     "output_type": "stream",
     "name": "stdout",
     "text": [
      "\n"
     ]
    }
   ],
   "source": [
    "dask_df = dd.read_csv(\"data/relation_files/*.csv\")\n",
    "full_df = dask_df.compute()\n",
    "\n",
    "fuser = TransEFuser(n_epochs=1)\n",
    "kg_df = fuser.fuse(full_df)"
   ]
  },
  {
   "cell_type": "code",
   "execution_count": 25,
   "metadata": {},
   "outputs": [
    {
     "output_type": "stream",
     "name": "stdout",
     "text": [
      "features the miscellaneous theme post 0.8309313930342925\nfeatures the miscellaneous theme Phase Three 0.8770152381337388\nfeatures the miscellaneous theme Godzilla : King of the Monsters 0.7556307173199088\nfeatures the miscellaneous theme Phase 3 0.9637231179948752\nfeatures the miscellaneous theme Spider-man 0.8702799825193193\nfeatures the miscellaneous theme Iron Man 4 0.800544004393814\nfeatures the miscellaneous theme Dutch 0.8396888292442442\nfeatures the miscellaneous theme MCU Spidey 0.8386825553487078\nfeatures the miscellaneous theme Marvel Universe 0.8303054810285748\nfeatures the miscellaneous theme Home 0.7639676883375516\nfeatures the miscellaneous theme ey 0.8045822739126643\nfeatures the miscellaneous theme The Greatest American Hero : The Movie 0.8240666894523073\nfeatures the miscellaneous theme Spider Man : Homecoming 0.7853025169230101\nfeatures the miscellaneous theme Spider-Man : Into the Spider-Verse 0.8680619640618144\nfeatures the miscellaneous theme Spider-Men and Women 0.8144843207443182\nfeatures the miscellaneous theme LSD 0.7518322129128201\nfeatures the miscellaneous theme Ant-Man and the Wasp 0.7613462856621948\nfeatures the miscellaneous theme Oscars 0.7955086346867407\nfeatures the miscellaneous theme Superman 0.9790025343257304\nfeatures the miscellaneous theme Almost Famous 0.8482553975741793\nfeatures the miscellaneous theme Super 0.8960871051554802\nfeatures the miscellaneous theme Die Hard 0.8078969796289908\nfeatures the miscellaneous theme Superman II 0.9134182749837015\nfeatures the miscellaneous theme 3 0.779950204344001\nfeatures the miscellaneous theme Green Goblin 0.8156459029706898\nfeatures the theme a bristling extravaganza 0.8755549072530069\nfeatures the theme the twists 0.9076376621890307\nfeatures the theme a funny wrap-up to the events 0.8806900013604867\nfeatures the theme the events of the big superhero showdown 0.8292889029704735\nfeatures the theme the big superhero showdown 0.8160615546816266\nfeatures the theme an adventure for tom holland's endlessly appealing webslinger 0.7667208784477422\nfeatures the theme this confidence 0.8218137559378553\nfeatures the theme a franchise has 20-+ movies 0.8806805871847566\nfeatures the theme a bouncy addition to a bulging franchise with just enough fringe zaniness 0.8525650795070401\nfeatures the theme a bulging franchise 0.8462002092574024\nfeatures the theme just enough fringe zaniness 0.7803460228265067\nfeatures the theme the pack 0.8285716237399756\nfeatures the theme my favorite movie 0.8520278641662692\nfeatures the theme ( if web-sticky ) hands 0.7600775766173669\nfeatures the theme all its dazzle 0.8249584845157\nfeatures the theme speed 0.8779130863141786\nfeatures the theme humbler aspirations fulfills them 0.8808803022635738\nfeatures the theme fulfills 0.8440945950155432\nfeatures the theme more suspense 0.8106404469651391\nfeatures the theme a triumph of capitalism 0.8562378100259083\nfeatures the theme capitalism 0.8855198154390682\nfeatures the theme not art 0.9472562784884081\nfeatures the theme fan fury 0.8453475661697908\nfeatures the theme unfamiliar webs 0.8668253583430592\nfeatures the theme a sequel 0.764002020504128\nfeatures the theme the perfect palate cleanser after the monumental  endgame 0.8809031920331172\nfeatures the theme the monumental  endgame 0.8635969887114926\nfeatures the theme a fun movie hits the reset button 0.8540255921744354\nfeatures the theme the reset button for the marvel cinematic universe 0.8222994536595926\nfeatures the theme too much baggage 0.8032889787491244\nfeatures the theme a messy narrative 0.85143991324073\nfeatures the theme some more interesting places with more interesting themes 0.8089834284248225\nfeatures the theme deals 0.8099370861552343\nfeatures the theme more interesting themes 0.8186994845674536\nfeatures the theme the post-credits scenes 0.7952082975577983\nfeatures the theme a great standalone 0.8160957872640102\nfeatures the theme a fun piece into the puzzle 0.8173556392244736\nfeatures the theme the puzzle of marvel's potential future 0.8723098196001379\nfeatures the theme pure popcorn fun 0.9153923501150543\nfeatures the theme the emotional beats 0.8834446254478749\nfeatures the theme the mark 0.7880183483143353\nfeatures the theme the action scenes 0.9173502374175015\nfeatures the theme their mark 0.820981566889962\nfeatures the theme not just a fun movie a great summer movie 0.892972732651462\nfeatures the theme big action a great cast 0.8113208285258069\nfeatures the theme a great cast 0.8013847828193106\nfeatures the theme barely entertains 0.8542764238379374\nfeatures the theme the perfect way end the third phase 0.8800535599858011\nfeatures the theme heart 0.8804852846670383\nfeatures the theme a supremely entertaining web-slinging sequel 0.8987326850524797\nfeatures the theme the face of the mcu 0.7867575026017697\nfeatures the theme center stage 0.8696452254971571\nfeatures the theme a pipsqueak 0.8056609364318985\nfeatures the theme a good taste in my mouth 0.9515265977694576\nfeatures the theme my mouth 0.7897985314974925\nfeatures the theme a smile on my face 0.8555764940000755\nfeatures the theme my face 0.8687398738072531\nfeatures the theme a fresh , youthful romp takes things 0.7608696797886823\nfeatures the theme basics 0.8752033713301564\nfeatures the theme a spider-man movie 0.7864682733432513\nfeatures the theme the way 0.8235471625395309\nfeatures the theme a warm and funny high-school dramedy adventure an old-fashioned superhero / supervillain battle 0.8683596582072928\nfeatures the theme an exciting action-adventure 0.8945735357167637\nfeatures the theme an old-fashioned superhero / supervillain battle 0.82584453752876\nfeatures the theme even casual fans 0.8062638179256081\nfeatures the theme the stakes 0.8993520553590899\nfeatures the theme an unexpected level change quite a few things 0.8656794602585143\nfeatures the theme quite a few things about this ongoing franchise 0.813129828444942\nfeatures the theme this ongoing franchise 0.8201039800888258\nfeatures the theme an undemanding summer blockbuster 0.9070305978869035\nfeatures the theme the heat 0.8055627971490372\nfeatures the theme effective twists 0.855092705766763\nfeatures the theme impressive character drama 0.8666485389036038\nfeatures the theme energetic entertainment 0.8559847447140556\nfeatures the theme the most important aspect 0.9006827812121256\nfeatures the theme that awkward kid from high school 0.7887097838826742\nfeatures the theme high school 0.8103678488429573\nfeatures the theme all kinds of possibilities 0.8662943695547938\nfeatures the theme possibilities 0.8622130374281339\nfeatures the theme ways surprise even the most prepared superhero 0.8614870579778402\nfeatures the theme even the most prepared superhero 0.793441322712698\nfeatures the theme part rom-com , part  avengers endgame sequel spider-man 0.8736470684165427\nfeatures the theme endgame 0.8293084322655968\nfeatures the theme sequel 0.901810905257114\nfeatures the theme the studio's snowballing weight of gravitas 0.9094543636935755\nfeatures the theme gravitas 0.8941778515165757\nfeatures the theme everything about the follow-up 0.8780390649811989\nfeatures the theme the follow-up to the delightful 2017 spider-man 0.9069267376550496\nfeatures the theme the web-slinger's \" friendly \" moniker 0.9049597373420546\nfeatures the theme an incredibly fun 0.8251445170589085\nfeatures the theme spider-man from home 0.8731898265113844\nfeatures the theme its charming subplot of teen love 0.92993968650886\nfeatures the theme teen love 0.8221225381716443\nfeatures the theme angst 0.8404414447396532\nfeatures the theme just another super hero movie 0.8118770110548481\nfeatures the theme a worthy sequel give us hope 0.8043291408807824\nfeatures the theme punch 0.8789420736235345\nfeatures the theme hope for the future 0.8405641205201464\nfeatures the theme the future of the marvel 0.8937408270037192\nfeatures the theme the story 0.8123417955420538\nfeatures the theme the soundtrack 0.813241449861829\nfeatures the theme no room for wit 0.8498122347441656\nfeatures the theme wit thought emotion 0.8402623300776677\nfeatures the theme thought 0.8486961698491886\nfeatures the theme emotion challenging novelty 0.8584108468328322\nfeatures the theme novelty 0.7573249419236219\nfeatures the theme this rubbish than most movie actors 0.7772252962241633\nfeatures the theme most movie actors 0.8403803174240301\nfeatures the theme the right note 0.8416768929208167\nfeatures the theme the teenager 0.8851547904163918\nfeatures the theme superhero 0.9086868688568828\nfeatures the theme the story keep you 0.8357806750493109\nfeatures the theme a superhero story 0.8521430848472842\nfeatures the theme a letdown 0.8985575422957409\nfeatures the theme just a challenge 0.8884450319576898\nfeatures the theme an impressively entertaining sequel 0.8323613983811882\nfeatures the theme the world 0.7617454968105486\nfeatures the theme the character 0.8162809837865015\nfeatures the theme his angle on the mcu 0.8138032925663886\nfeatures the theme a couple of the best aspects 0.806358454345931\nfeatures the theme the best aspects of marvel franchise 0.8254579972476803\nfeatures the theme a bridge to future installments 0.7566372690591685\nfeatures the theme future installments 0.8013090713097604\nfeatures the theme a bridge 0.8049160197395386\nfeatures the theme the chapter 0.8758272170293175\nfeatures the theme the foundation 0.8624587156120351\nfeatures the theme its time between super-battles 0.8993016783754277\nfeatures the theme super 0.8044719458807172\n"
     ]
    }
   ],
   "source": [
    "filtered_df = kg_df.loc[kg_df[\"probability\"] > 0.75].reset_index(drop=True)\n",
    "x = filtered_df[filtered_df[\"entity_id\"] == \"m/spiderman_2\"]\n",
    "for i in range(len(filtered_df[filtered_df[\"entity_id\"] == \"m/spiderman\"])):\n",
    "    r = x.iloc[i]\n",
    "    print(r[\"relation\"], r[\"value\"], r[\"probability\"])"
   ]
  }
 ]
}