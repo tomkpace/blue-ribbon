{
 "metadata": {
  "language_info": {
   "codemirror_mode": {
    "name": "ipython",
    "version": 3
   },
   "file_extension": ".py",
   "mimetype": "text/x-python",
   "name": "python",
   "nbconvert_exporter": "python",
   "pygments_lexer": "ipython3",
   "version": "3.7.3"
  },
  "orig_nbformat": 2,
  "kernelspec": {
   "name": "python37364bitbaseconda695c26050d2f45bb8896ce2b0036a0bd",
   "display_name": "Python 3.7.3 64-bit ('base': conda)"
  },
  "metadata": {
   "interpreter": {
    "hash": "63d0a0a306d17f9618fcd2df71f8943413e3c03229e5631c7d32ac919a8133cf"
   }
  }
 },
 "nbformat": 4,
 "nbformat_minor": 2,
 "cells": [
  {
   "cell_type": "code",
   "execution_count": 1,
   "metadata": {},
   "outputs": [],
   "source": [
    "import os\n",
    "import numpy as np\n",
    "import pandas as pd\n",
    "from knowledge_graph_generator import KnowledgeGraphGenerator\n",
    "from fusion import TransEFuser"
   ]
  },
  {
   "cell_type": "code",
   "execution_count": 2,
   "metadata": {},
   "outputs": [],
   "source": [
    "# TransEFuser Example:  The TransEFuser can fuse a knowledge graph\n",
    "# composed of noisy and potentially conflicting triples and generate\n",
    "# a distance for each triple where the distance is a measure of \n",
    "# how \"true\" that triple is based on the training data.  This method\n",
    "# uses a modification of the TransE translational embedding technique.\n",
    "# Example:\n",
    "# TransEFuser is instantiated with a KnowledgeGraphGenerator object.\n",
    "# Load the full knowledge graph DataFrame.\n",
    "raw_kg_df = pd.read_csv(\"data/raw_kg_df.csv\")\n",
    "# Construct a toy dataset with only AMAZING movies.\n",
    "toy_movie_list = [\n",
    "    \"m/terminator\",\n",
    "    \"m/spaceballs\",\n",
    "    \"m/dumb_and_dumber\",\n",
    "    \"m/demolition_man\",\n",
    "    \"m/hot_tub_time_machine\",\n",
    "]\n",
    "toy_df = raw_kg_df.loc[raw_kg_df[\"entity_id\"].isin(toy_movie_list)]\n",
    "kg_obj = KnowledgeGraphGenerator(known_data_list=[toy_df])\n",
    "# Instantiate the TransEFuser object.\n",
    "fuser = TransEFuser(kg_obj)\n",
    "# Fuse the knowledge graph.\n",
    "fused_kg_df = fuser.fuse()"
   ]
  },
  {
   "cell_type": "code",
   "execution_count": 3,
   "metadata": {},
   "outputs": [
    {
     "output_type": "stream",
     "name": "stdout",
     "text": [
      "                  entity_id relation    value  distance\n567  m/hot_tub_time_machine       is  lowbrow  1.864019\n566       m/dumb_and_dumber       is  lowbrow  1.956428\n\n\n         entity_id            relation               value  distance\n1880  m/terminator  features the theme  a murderous cyborg  1.931387\n"
     ]
    }
   ],
   "source": [
    "# The distance conveys how \"true\" the triple is given\n",
    "# the training data.  Certain triples seem spot on.\n",
    "print(fused_kg_df[fused_kg_df[\"value\"] == \"lowbrow\"].sort_values(\"distance\"))\n",
    "print(\"\\n\")\n",
    "print(fused_kg_df[fused_kg_df[\"value\"] == \"a murderous cyborg\"].sort_values(\"distance\"))"
   ]
  },
  {
   "cell_type": "code",
   "execution_count": 4,
   "metadata": {},
   "outputs": [
    {
     "output_type": "execute_result",
     "data": {
      "text/plain": [
       "                   entity_id                          relation  \\\n",
       "1728        m/demolition_man                features the theme   \n",
       "2272            m/terminator               features the person   \n",
       "1670  m/hot_tub_time_machine                features the theme   \n",
       "1314  m/hot_tub_time_machine                features the theme   \n",
       "149             m/terminator                                is   \n",
       "883             m/terminator                features the theme   \n",
       "41    m/hot_tub_time_machine                                is   \n",
       "1134  m/hot_tub_time_machine                features the theme   \n",
       "2201  m/hot_tub_time_machine  features the miscellaneous theme   \n",
       "806   m/hot_tub_time_machine                features the theme   \n",
       "\n",
       "                          value  distance  \n",
       "1728  the cities of los angeles  2.092196  \n",
       "2272                       John  2.026059  \n",
       "1670        time travel plunges  1.618927  \n",
       "1314                 the offset  1.775279  \n",
       "149                   brilliant  1.981868  \n",
       "883                    its kind  1.767191  \n",
       "41                         high  2.061755  \n",
       "1134                  grown men  1.892759  \n",
       "2201                      ' 80s  1.794854  \n",
       "806                expectations  1.951650  "
      ],
      "text/html": "<div>\n<style scoped>\n    .dataframe tbody tr th:only-of-type {\n        vertical-align: middle;\n    }\n\n    .dataframe tbody tr th {\n        vertical-align: top;\n    }\n\n    .dataframe thead th {\n        text-align: right;\n    }\n</style>\n<table border=\"1\" class=\"dataframe\">\n  <thead>\n    <tr style=\"text-align: right;\">\n      <th></th>\n      <th>entity_id</th>\n      <th>relation</th>\n      <th>value</th>\n      <th>distance</th>\n    </tr>\n  </thead>\n  <tbody>\n    <tr>\n      <th>1728</th>\n      <td>m/demolition_man</td>\n      <td>features the theme</td>\n      <td>the cities of los angeles</td>\n      <td>2.092196</td>\n    </tr>\n    <tr>\n      <th>2272</th>\n      <td>m/terminator</td>\n      <td>features the person</td>\n      <td>John</td>\n      <td>2.026059</td>\n    </tr>\n    <tr>\n      <th>1670</th>\n      <td>m/hot_tub_time_machine</td>\n      <td>features the theme</td>\n      <td>time travel plunges</td>\n      <td>1.618927</td>\n    </tr>\n    <tr>\n      <th>1314</th>\n      <td>m/hot_tub_time_machine</td>\n      <td>features the theme</td>\n      <td>the offset</td>\n      <td>1.775279</td>\n    </tr>\n    <tr>\n      <th>149</th>\n      <td>m/terminator</td>\n      <td>is</td>\n      <td>brilliant</td>\n      <td>1.981868</td>\n    </tr>\n    <tr>\n      <th>883</th>\n      <td>m/terminator</td>\n      <td>features the theme</td>\n      <td>its kind</td>\n      <td>1.767191</td>\n    </tr>\n    <tr>\n      <th>41</th>\n      <td>m/hot_tub_time_machine</td>\n      <td>is</td>\n      <td>high</td>\n      <td>2.061755</td>\n    </tr>\n    <tr>\n      <th>1134</th>\n      <td>m/hot_tub_time_machine</td>\n      <td>features the theme</td>\n      <td>grown men</td>\n      <td>1.892759</td>\n    </tr>\n    <tr>\n      <th>2201</th>\n      <td>m/hot_tub_time_machine</td>\n      <td>features the miscellaneous theme</td>\n      <td>' 80s</td>\n      <td>1.794854</td>\n    </tr>\n    <tr>\n      <th>806</th>\n      <td>m/hot_tub_time_machine</td>\n      <td>features the theme</td>\n      <td>expectations</td>\n      <td>1.951650</td>\n    </tr>\n  </tbody>\n</table>\n</div>"
     },
     "metadata": {},
     "execution_count": 4
    }
   ],
   "source": [
    "# But the method generates a lot of noise.\n",
    "random_triples = np.random.choice(range(len(fused_kg_df)), size=10)\n",
    "fused_kg_df.iloc[random_triples]"
   ]
  }
 ]
}