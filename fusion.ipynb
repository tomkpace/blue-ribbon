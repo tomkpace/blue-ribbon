{
 "metadata": {
  "language_info": {
   "codemirror_mode": {
    "name": "ipython",
    "version": 3
   },
   "file_extension": ".py",
   "mimetype": "text/x-python",
   "name": "python",
   "nbconvert_exporter": "python",
   "pygments_lexer": "ipython3",
   "version": "3.7.3"
  },
  "orig_nbformat": 2,
  "kernelspec": {
   "name": "python37364bitbaseconda695c26050d2f45bb8896ce2b0036a0bd",
   "display_name": "Python 3.7.3 64-bit ('base': conda)"
  },
  "metadata": {
   "interpreter": {
    "hash": "63d0a0a306d17f9618fcd2df71f8943413e3c03229e5631c7d32ac919a8133cf"
   }
  }
 },
 "nbformat": 4,
 "nbformat_minor": 2,
 "cells": [
  {
   "cell_type": "code",
   "execution_count": 21,
   "metadata": {},
   "outputs": [],
   "source": [
    "import os\n",
    "import numpy as np\n",
    "import pandas as pd\n",
    "import dask.dataframe as dd\n",
    "from knowledge_graph_generator import KnowledgeGraphGenerator\n",
    "from fusion import TransE, TransEFuser\n",
    "\n",
    "import seaborn as sns\n",
    "import matplotlib.pyplot as plt\n",
    "\n",
    "import torch\n",
    "import torch.nn as nn\n",
    "import torch.nn.functional as F\n",
    "import torch.optim as optim\n",
    "from tqdm.notebook import tqdm\n"
   ]
  },
  {
   "cell_type": "code",
   "execution_count": 17,
   "metadata": {},
   "outputs": [],
   "source": [
    "df = pd.read_csv(\"data/kg_count_year_df.csv\")\n",
    "df = df.loc[(df[\"year_released\"] == 2017)&(df[\"arc_count\"] >= 500)].reset_index(drop=True)\n",
    "df = df[[\"entity_id\", \"relation\", \"value\"]]\n",
    "kg_obj = KnowledgeGraphGenerator(known_data_list=[df])\n",
    "transe = TransE(kg_obj)"
   ]
  },
  {
   "cell_type": "code",
   "execution_count": 18,
   "metadata": {},
   "outputs": [],
   "source": [
    "idx_array = transe.gen_training_array(df)"
   ]
  },
  {
   "cell_type": "code",
   "execution_count": 29,
   "metadata": {},
   "outputs": [
    {
     "output_type": "execute_result",
     "data": {
      "text/plain": [
       "tensor(1.2491, grad_fn=<MeanBackward0>)"
      ]
     },
     "metadata": {},
     "execution_count": 29
    }
   ],
   "source": [
    "transe.loss_fn(transe.forward(torch.LongTensor(idx_array)))"
   ]
  },
  {
   "cell_type": "code",
   "execution_count": 20,
   "metadata": {},
   "outputs": [
    {
     "output_type": "error",
     "ename": "TypeError",
     "evalue": "embedding(): argument 'indices' (position 2) must be Tensor, not numpy.int64",
     "traceback": [
      "\u001b[1;31m---------------------------------------------------------------------------\u001b[0m",
      "\u001b[1;31mTypeError\u001b[0m                                 Traceback (most recent call last)",
      "\u001b[1;32m<ipython-input-20-b57c418a3f91>\u001b[0m in \u001b[0;36m<module>\u001b[1;34m\u001b[0m\n\u001b[1;32m----> 1\u001b[1;33m \u001b[0mtranse\u001b[0m\u001b[1;33m.\u001b[0m\u001b[0midx2embeds\u001b[0m\u001b[1;33m(\u001b[0m\u001b[0midx_array\u001b[0m\u001b[1;33m)\u001b[0m\u001b[1;33m\u001b[0m\u001b[1;33m\u001b[0m\u001b[0m\n\u001b[0m",
      "\u001b[1;32mc:\\Users\\TomPace\\Documents\\GitHub\\blue-ribbon\\fusion.py\u001b[0m in \u001b[0;36midx2embeds\u001b[1;34m(self, data)\u001b[0m\n\u001b[0;32m     90\u001b[0m         \u001b[0mtriple\u001b[0m \u001b[1;33m=\u001b[0m \u001b[1;33m{\u001b[0m\u001b[1;33m}\u001b[0m\u001b[1;33m\u001b[0m\u001b[1;33m\u001b[0m\u001b[0m\n\u001b[0;32m     91\u001b[0m \u001b[1;33m\u001b[0m\u001b[0m\n\u001b[1;32m---> 92\u001b[1;33m         \u001b[0mh\u001b[0m \u001b[1;33m=\u001b[0m \u001b[0mself\u001b[0m\u001b[1;33m.\u001b[0m\u001b[0ment_embeds\u001b[0m\u001b[1;33m(\u001b[0m\u001b[0mdata\u001b[0m\u001b[1;33m[\u001b[0m\u001b[1;33m-\u001b[0m\u001b[1;36m1\u001b[0m\u001b[1;33m,\u001b[0m \u001b[1;36m0\u001b[0m\u001b[1;33m]\u001b[0m\u001b[1;33m)\u001b[0m\u001b[1;33m\u001b[0m\u001b[1;33m\u001b[0m\u001b[0m\n\u001b[0m\u001b[0;32m     93\u001b[0m         \u001b[0mr\u001b[0m \u001b[1;33m=\u001b[0m \u001b[0mself\u001b[0m\u001b[1;33m.\u001b[0m\u001b[0mrel_embeds\u001b[0m\u001b[1;33m(\u001b[0m\u001b[0mdata\u001b[0m\u001b[1;33m[\u001b[0m\u001b[1;33m-\u001b[0m\u001b[1;36m1\u001b[0m\u001b[1;33m,\u001b[0m \u001b[1;36m1\u001b[0m\u001b[1;33m]\u001b[0m\u001b[1;33m)\u001b[0m\u001b[1;33m\u001b[0m\u001b[1;33m\u001b[0m\u001b[0m\n\u001b[0;32m     94\u001b[0m         \u001b[0mt\u001b[0m \u001b[1;33m=\u001b[0m \u001b[0mself\u001b[0m\u001b[1;33m.\u001b[0m\u001b[0mval_embeds\u001b[0m\u001b[1;33m(\u001b[0m\u001b[0mdata\u001b[0m\u001b[1;33m[\u001b[0m\u001b[1;33m-\u001b[0m\u001b[1;36m1\u001b[0m\u001b[1;33m,\u001b[0m \u001b[1;36m2\u001b[0m\u001b[1;33m]\u001b[0m\u001b[1;33m)\u001b[0m\u001b[1;33m\u001b[0m\u001b[1;33m\u001b[0m\u001b[0m\n",
      "\u001b[1;32m~\\Anaconda3\\lib\\site-packages\\torch\\nn\\modules\\module.py\u001b[0m in \u001b[0;36m_call_impl\u001b[1;34m(self, *input, **kwargs)\u001b[0m\n\u001b[0;32m    887\u001b[0m             \u001b[0mresult\u001b[0m \u001b[1;33m=\u001b[0m \u001b[0mself\u001b[0m\u001b[1;33m.\u001b[0m\u001b[0m_slow_forward\u001b[0m\u001b[1;33m(\u001b[0m\u001b[1;33m*\u001b[0m\u001b[0minput\u001b[0m\u001b[1;33m,\u001b[0m \u001b[1;33m**\u001b[0m\u001b[0mkwargs\u001b[0m\u001b[1;33m)\u001b[0m\u001b[1;33m\u001b[0m\u001b[1;33m\u001b[0m\u001b[0m\n\u001b[0;32m    888\u001b[0m         \u001b[1;32melse\u001b[0m\u001b[1;33m:\u001b[0m\u001b[1;33m\u001b[0m\u001b[1;33m\u001b[0m\u001b[0m\n\u001b[1;32m--> 889\u001b[1;33m             \u001b[0mresult\u001b[0m \u001b[1;33m=\u001b[0m \u001b[0mself\u001b[0m\u001b[1;33m.\u001b[0m\u001b[0mforward\u001b[0m\u001b[1;33m(\u001b[0m\u001b[1;33m*\u001b[0m\u001b[0minput\u001b[0m\u001b[1;33m,\u001b[0m \u001b[1;33m**\u001b[0m\u001b[0mkwargs\u001b[0m\u001b[1;33m)\u001b[0m\u001b[1;33m\u001b[0m\u001b[1;33m\u001b[0m\u001b[0m\n\u001b[0m\u001b[0;32m    890\u001b[0m         for hook in itertools.chain(\n\u001b[0;32m    891\u001b[0m                 \u001b[0m_global_forward_hooks\u001b[0m\u001b[1;33m.\u001b[0m\u001b[0mvalues\u001b[0m\u001b[1;33m(\u001b[0m\u001b[1;33m)\u001b[0m\u001b[1;33m,\u001b[0m\u001b[1;33m\u001b[0m\u001b[1;33m\u001b[0m\u001b[0m\n",
      "\u001b[1;32m~\\Anaconda3\\lib\\site-packages\\torch\\nn\\modules\\sparse.py\u001b[0m in \u001b[0;36mforward\u001b[1;34m(self, input)\u001b[0m\n\u001b[0;32m    156\u001b[0m         return F.embedding(\n\u001b[0;32m    157\u001b[0m             \u001b[0minput\u001b[0m\u001b[1;33m,\u001b[0m \u001b[0mself\u001b[0m\u001b[1;33m.\u001b[0m\u001b[0mweight\u001b[0m\u001b[1;33m,\u001b[0m \u001b[0mself\u001b[0m\u001b[1;33m.\u001b[0m\u001b[0mpadding_idx\u001b[0m\u001b[1;33m,\u001b[0m \u001b[0mself\u001b[0m\u001b[1;33m.\u001b[0m\u001b[0mmax_norm\u001b[0m\u001b[1;33m,\u001b[0m\u001b[1;33m\u001b[0m\u001b[1;33m\u001b[0m\u001b[0m\n\u001b[1;32m--> 158\u001b[1;33m             self.norm_type, self.scale_grad_by_freq, self.sparse)\n\u001b[0m\u001b[0;32m    159\u001b[0m \u001b[1;33m\u001b[0m\u001b[0m\n\u001b[0;32m    160\u001b[0m     \u001b[1;32mdef\u001b[0m \u001b[0mextra_repr\u001b[0m\u001b[1;33m(\u001b[0m\u001b[0mself\u001b[0m\u001b[1;33m)\u001b[0m \u001b[1;33m->\u001b[0m \u001b[0mstr\u001b[0m\u001b[1;33m:\u001b[0m\u001b[1;33m\u001b[0m\u001b[1;33m\u001b[0m\u001b[0m\n",
      "\u001b[1;32m~\\Anaconda3\\lib\\site-packages\\torch\\nn\\functional.py\u001b[0m in \u001b[0;36membedding\u001b[1;34m(input, weight, padding_idx, max_norm, norm_type, scale_grad_by_freq, sparse)\u001b[0m\n\u001b[0;32m   1914\u001b[0m         \u001b[1;31m# remove once script supports set_grad_enabled\u001b[0m\u001b[1;33m\u001b[0m\u001b[1;33m\u001b[0m\u001b[1;33m\u001b[0m\u001b[0m\n\u001b[0;32m   1915\u001b[0m         \u001b[0m_no_grad_embedding_renorm_\u001b[0m\u001b[1;33m(\u001b[0m\u001b[0mweight\u001b[0m\u001b[1;33m,\u001b[0m \u001b[0minput\u001b[0m\u001b[1;33m,\u001b[0m \u001b[0mmax_norm\u001b[0m\u001b[1;33m,\u001b[0m \u001b[0mnorm_type\u001b[0m\u001b[1;33m)\u001b[0m\u001b[1;33m\u001b[0m\u001b[1;33m\u001b[0m\u001b[0m\n\u001b[1;32m-> 1916\u001b[1;33m     \u001b[1;32mreturn\u001b[0m \u001b[0mtorch\u001b[0m\u001b[1;33m.\u001b[0m\u001b[0membedding\u001b[0m\u001b[1;33m(\u001b[0m\u001b[0mweight\u001b[0m\u001b[1;33m,\u001b[0m \u001b[0minput\u001b[0m\u001b[1;33m,\u001b[0m \u001b[0mpadding_idx\u001b[0m\u001b[1;33m,\u001b[0m \u001b[0mscale_grad_by_freq\u001b[0m\u001b[1;33m,\u001b[0m \u001b[0msparse\u001b[0m\u001b[1;33m)\u001b[0m\u001b[1;33m\u001b[0m\u001b[1;33m\u001b[0m\u001b[0m\n\u001b[0m\u001b[0;32m   1917\u001b[0m \u001b[1;33m\u001b[0m\u001b[0m\n\u001b[0;32m   1918\u001b[0m \u001b[1;33m\u001b[0m\u001b[0m\n",
      "\u001b[1;31mTypeError\u001b[0m: embedding(): argument 'indices' (position 2) must be Tensor, not numpy.int64"
     ]
    }
   ],
   "source": [
    "transe.idx2embeds(idx_array)"
   ]
  },
  {
   "cell_type": "code",
   "execution_count": null,
   "metadata": {},
   "outputs": [],
   "source": []
  },
  {
   "cell_type": "code",
   "execution_count": 91,
   "metadata": {},
   "outputs": [],
   "source": [
    "def filter_arcs(input_full_df, min_arc_count=25):\n",
    "    full_df = input_full_df.copy(deep=True)\n",
    "    full_df[\"arc\"] = full_df[\"relation\"] + \" \" + full_df[\"value\"]\n",
    "    full_df[\"indicator\"] = 1\n",
    "    arc_df = full_df[[\"arc\", \"indicator\"]].groupby(\"arc\").count().reset_index()\n",
    "    arc_df.rename(columns={\"indicator\":\"arc_count\"}, inplace=True)\n",
    "    arc_df = arc_df.sort_values(\"arc_count\", ascending=False).reset_index(drop=True)\n",
    "    common_arc_df = arc_df.loc[arc_df[\"arc_count\"] >= min_arc_count]\n",
    "    common_arc_df = common_arc_df.merge(full_df, on=\"arc\")\n",
    "    common_arc_df = common_arc_df[list(input_full_df.columns) + [\"arc_count\"]] \\\n",
    "        .reset_index(drop=True)\n",
    "    return common_arc_df"
   ]
  },
  {
   "cell_type": "code",
   "execution_count": 69,
   "metadata": {},
   "outputs": [],
   "source": [
    "full_df = pd.read_csv(\"data/kg_df.csv\")\n",
    "known_df = pd.read_csv(\"data/known_df.csv\")\n",
    "year_df = known_df.loc[known_df[\"relation\"] == \"released on\"].reset_index(drop=True)\n",
    "year_df = year_df[[\"entity_id\", \"value\"]].rename(columns={\"value\": \"year_released\"})\n",
    "full_df = full_df.merge(year_df, on=\"entity_id\").reset_index(drop=True)\n",
    "small_kg_year_df = filter_arcs(full_df)\n",
    "small_kg_year_df.to_csv(\"data/small_kg_year_df.csv\")"
   ]
  },
  {
   "cell_type": "code",
   "execution_count": 92,
   "metadata": {},
   "outputs": [],
   "source": [
    "t = filter_arcs(full_df, min_arc_count=1)"
   ]
  },
  {
   "cell_type": "code",
   "execution_count": 93,
   "metadata": {},
   "outputs": [],
   "source": [
    "t.to_csv(\"data/kg_count_year_df.csv\", index=False)"
   ]
  },
  {
   "cell_type": "code",
   "execution_count": 100,
   "metadata": {},
   "outputs": [],
   "source": [
    "df = pd.read_csv(\"data/kg_df.csv\")"
   ]
  },
  {
   "cell_type": "code",
   "execution_count": 95,
   "metadata": {},
   "outputs": [
    {
     "output_type": "execute_result",
     "data": {
      "text/plain": [
       "                        entity_id relation       value year_released  \\\n",
       "186                 m/100_streets       is        good          2017   \n",
       "764                    m/222_2017       is        good          2017   \n",
       "779               m/3_generations       is        good          2017   \n",
       "784              m/47_meters_down       is        good          2017   \n",
       "794        m/a_bad_moms_christmas       is        good          2017   \n",
       "...                           ...      ...         ...           ...   \n",
       "528431    m/the_glass_castle_2017       is  inevitable          2017   \n",
       "528444  m/the_mountain_between_us       is  inevitable          2017   \n",
       "528445           m/the_mummy_2017       is  inevitable          2017   \n",
       "528454            m/the_wall_2017       is  inevitable          2017   \n",
       "528468       m/unforgettable_2017       is  inevitable          2017   \n",
       "\n",
       "        arc_count  \n",
       "186          4848  \n",
       "764          4848  \n",
       "779          4848  \n",
       "784          4848  \n",
       "794          4848  \n",
       "...           ...  \n",
       "528431        500  \n",
       "528444        500  \n",
       "528445        500  \n",
       "528454        500  \n",
       "528468        500  \n",
       "\n",
       "[27254 rows x 5 columns]"
      ],
      "text/html": "<div>\n<style scoped>\n    .dataframe tbody tr th:only-of-type {\n        vertical-align: middle;\n    }\n\n    .dataframe tbody tr th {\n        vertical-align: top;\n    }\n\n    .dataframe thead th {\n        text-align: right;\n    }\n</style>\n<table border=\"1\" class=\"dataframe\">\n  <thead>\n    <tr style=\"text-align: right;\">\n      <th></th>\n      <th>entity_id</th>\n      <th>relation</th>\n      <th>value</th>\n      <th>year_released</th>\n      <th>arc_count</th>\n    </tr>\n  </thead>\n  <tbody>\n    <tr>\n      <th>186</th>\n      <td>m/100_streets</td>\n      <td>is</td>\n      <td>good</td>\n      <td>2017</td>\n      <td>4848</td>\n    </tr>\n    <tr>\n      <th>764</th>\n      <td>m/222_2017</td>\n      <td>is</td>\n      <td>good</td>\n      <td>2017</td>\n      <td>4848</td>\n    </tr>\n    <tr>\n      <th>779</th>\n      <td>m/3_generations</td>\n      <td>is</td>\n      <td>good</td>\n      <td>2017</td>\n      <td>4848</td>\n    </tr>\n    <tr>\n      <th>784</th>\n      <td>m/47_meters_down</td>\n      <td>is</td>\n      <td>good</td>\n      <td>2017</td>\n      <td>4848</td>\n    </tr>\n    <tr>\n      <th>794</th>\n      <td>m/a_bad_moms_christmas</td>\n      <td>is</td>\n      <td>good</td>\n      <td>2017</td>\n      <td>4848</td>\n    </tr>\n    <tr>\n      <th>...</th>\n      <td>...</td>\n      <td>...</td>\n      <td>...</td>\n      <td>...</td>\n      <td>...</td>\n    </tr>\n    <tr>\n      <th>528431</th>\n      <td>m/the_glass_castle_2017</td>\n      <td>is</td>\n      <td>inevitable</td>\n      <td>2017</td>\n      <td>500</td>\n    </tr>\n    <tr>\n      <th>528444</th>\n      <td>m/the_mountain_between_us</td>\n      <td>is</td>\n      <td>inevitable</td>\n      <td>2017</td>\n      <td>500</td>\n    </tr>\n    <tr>\n      <th>528445</th>\n      <td>m/the_mummy_2017</td>\n      <td>is</td>\n      <td>inevitable</td>\n      <td>2017</td>\n      <td>500</td>\n    </tr>\n    <tr>\n      <th>528454</th>\n      <td>m/the_wall_2017</td>\n      <td>is</td>\n      <td>inevitable</td>\n      <td>2017</td>\n      <td>500</td>\n    </tr>\n    <tr>\n      <th>528468</th>\n      <td>m/unforgettable_2017</td>\n      <td>is</td>\n      <td>inevitable</td>\n      <td>2017</td>\n      <td>500</td>\n    </tr>\n  </tbody>\n</table>\n<p>27254 rows × 5 columns</p>\n</div>"
     },
     "metadata": {},
     "execution_count": 95
    }
   ],
   "source": [
    "t.loc[(t[\"year_released\"] == '2017')&(t[\"arc_count\"] >= 500)]"
   ]
  },
  {
   "cell_type": "code",
   "execution_count": 72,
   "metadata": {},
   "outputs": [
    {
     "output_type": "stream",
     "name": "stdout",
     "text": [
      "Resorted to Kfold splitter.\n"
     ]
    },
    {
     "output_type": "display_data",
     "data": {
      "text/plain": "HBox(children=(HTML(value=''), FloatProgress(value=0.0, max=273828.0), HTML(value='')))",
      "application/vnd.jupyter.widget-view+json": {
       "version_major": 2,
       "version_minor": 0,
       "model_id": "1903fdb9060743e183e73f2d99465ff5"
      }
     },
     "metadata": {}
    },
    {
     "output_type": "stream",
     "name": "stdout",
     "text": [
      "\n"
     ]
    },
    {
     "output_type": "error",
     "ename": "KeyboardInterrupt",
     "evalue": "",
     "traceback": [
      "\u001b[1;31m---------------------------------------------------------------------------\u001b[0m",
      "\u001b[1;31mKeyboardInterrupt\u001b[0m                         Traceback (most recent call last)",
      "\u001b[1;32m<ipython-input-72-e48bc409ca08>\u001b[0m in \u001b[0;36m<module>\u001b[1;34m\u001b[0m\n\u001b[0;32m      1\u001b[0m \u001b[0mfuser\u001b[0m \u001b[1;33m=\u001b[0m \u001b[0mTransEFuser\u001b[0m\u001b[1;33m(\u001b[0m\u001b[0membed_dim\u001b[0m\u001b[1;33m=\u001b[0m\u001b[1;36m3\u001b[0m\u001b[1;33m,\u001b[0m \u001b[0mmax_epochs\u001b[0m\u001b[1;33m=\u001b[0m\u001b[1;36m2\u001b[0m\u001b[1;33m,\u001b[0m \u001b[0mn_splits\u001b[0m\u001b[1;33m=\u001b[0m\u001b[1;36m3\u001b[0m\u001b[1;33m)\u001b[0m\u001b[1;33m\u001b[0m\u001b[1;33m\u001b[0m\u001b[0m\n\u001b[1;32m----> 2\u001b[1;33m \u001b[0mtoy_kg_df\u001b[0m \u001b[1;33m=\u001b[0m \u001b[0mfuser\u001b[0m\u001b[1;33m.\u001b[0m\u001b[0mfuse\u001b[0m\u001b[1;33m(\u001b[0m\u001b[0mtoy_df\u001b[0m\u001b[1;33m[\u001b[0m\u001b[1;33m[\u001b[0m\u001b[1;34m\"entity_id\"\u001b[0m\u001b[1;33m,\u001b[0m \u001b[1;34m\"relation\"\u001b[0m\u001b[1;33m,\u001b[0m \u001b[1;34m\"value\"\u001b[0m\u001b[1;33m]\u001b[0m\u001b[1;33m]\u001b[0m\u001b[1;33m)\u001b[0m\u001b[1;33m\u001b[0m\u001b[1;33m\u001b[0m\u001b[0m\n\u001b[0m",
      "\u001b[1;32mc:\\Users\\TomPace\\Documents\\GitHub\\blue-ribbon\\fusion.py\u001b[0m in \u001b[0;36mfuse\u001b[1;34m(self, input_kg_df)\u001b[0m\n\u001b[0;32m    341\u001b[0m                         \u001b[1;32mcontinue\u001b[0m\u001b[1;33m\u001b[0m\u001b[1;33m\u001b[0m\u001b[0m\n\u001b[0;32m    342\u001b[0m                     \u001b[0mtrans\u001b[0m\u001b[1;33m.\u001b[0m\u001b[0mfit\u001b[0m\u001b[1;33m(\u001b[0m\u001b[0mtraining_array\u001b[0m\u001b[1;33m[\u001b[0m\u001b[0mtrain_idx\u001b[0m\u001b[1;33m]\u001b[0m\u001b[1;33m)\u001b[0m\u001b[1;33m\u001b[0m\u001b[1;33m\u001b[0m\u001b[0m\n\u001b[1;32m--> 343\u001b[1;33m                     \u001b[0mnew_loss\u001b[0m \u001b[1;33m=\u001b[0m \u001b[0mtrans\u001b[0m\u001b[1;33m.\u001b[0m\u001b[0mevaluate\u001b[0m\u001b[1;33m(\u001b[0m\u001b[0mtraining_array\u001b[0m\u001b[1;33m[\u001b[0m\u001b[0mtest_idx\u001b[0m\u001b[1;33m]\u001b[0m\u001b[1;33m)\u001b[0m\u001b[1;33m\u001b[0m\u001b[1;33m\u001b[0m\u001b[0m\n\u001b[0m\u001b[0;32m    344\u001b[0m                     \u001b[1;32mif\u001b[0m \u001b[0mnew_loss\u001b[0m \u001b[1;33m>=\u001b[0m \u001b[0mloss\u001b[0m\u001b[1;33m:\u001b[0m\u001b[1;33m\u001b[0m\u001b[1;33m\u001b[0m\u001b[0m\n\u001b[0;32m    345\u001b[0m                         \u001b[0mstagnant_iterations\u001b[0m \u001b[1;33m+=\u001b[0m \u001b[1;36m1\u001b[0m\u001b[1;33m\u001b[0m\u001b[1;33m\u001b[0m\u001b[0m\n",
      "\u001b[1;32mc:\\Users\\TomPace\\Documents\\GitHub\\blue-ribbon\\fusion.py\u001b[0m in \u001b[0;36mevaluate\u001b[1;34m(self, test_array, method)\u001b[0m\n\u001b[0;32m    240\u001b[0m                     \u001b[0mtriple\u001b[0m\u001b[1;33m[\u001b[0m\u001b[1;36m0\u001b[0m\u001b[1;33m]\u001b[0m \u001b[1;33m=\u001b[0m \u001b[0mtest_entity_idx\u001b[0m\u001b[1;33m\u001b[0m\u001b[1;33m\u001b[0m\u001b[0m\n\u001b[0;32m    241\u001b[0m                     \u001b[0minput_triple\u001b[0m \u001b[1;33m=\u001b[0m \u001b[0mtorch\u001b[0m\u001b[1;33m.\u001b[0m\u001b[0mLongTensor\u001b[0m\u001b[1;33m(\u001b[0m\u001b[0mtriple\u001b[0m\u001b[1;33m)\u001b[0m\u001b[1;33m.\u001b[0m\u001b[0munsqueeze\u001b[0m\u001b[1;33m(\u001b[0m\u001b[1;36m0\u001b[0m\u001b[1;33m)\u001b[0m\u001b[1;33m\u001b[0m\u001b[1;33m\u001b[0m\u001b[0m\n\u001b[1;32m--> 242\u001b[1;33m                     \u001b[0mscores\u001b[0m \u001b[1;33m=\u001b[0m \u001b[0mself\u001b[0m\u001b[1;33m.\u001b[0m\u001b[0mforward\u001b[0m\u001b[1;33m(\u001b[0m\u001b[0minput_triple\u001b[0m\u001b[1;33m)\u001b[0m\u001b[1;33m\u001b[0m\u001b[1;33m\u001b[0m\u001b[0m\n\u001b[0m\u001b[0;32m    243\u001b[0m                     \u001b[0mloss\u001b[0m\u001b[1;33m.\u001b[0m\u001b[0mappend\u001b[0m\u001b[1;33m(\u001b[0m\u001b[0mself\u001b[0m\u001b[1;33m.\u001b[0m\u001b[0mloss_fn\u001b[0m\u001b[1;33m(\u001b[0m\u001b[0mscores\u001b[0m\u001b[1;33m)\u001b[0m\u001b[1;33m.\u001b[0m\u001b[0mdetach\u001b[0m\u001b[1;33m(\u001b[0m\u001b[1;33m)\u001b[0m\u001b[1;33m.\u001b[0m\u001b[0mnumpy\u001b[0m\u001b[1;33m(\u001b[0m\u001b[1;33m)\u001b[0m\u001b[1;33m.\u001b[0m\u001b[0mitem\u001b[0m\u001b[1;33m(\u001b[0m\u001b[1;33m)\u001b[0m\u001b[1;33m)\u001b[0m\u001b[1;33m\u001b[0m\u001b[1;33m\u001b[0m\u001b[0m\n\u001b[0;32m    244\u001b[0m                 \u001b[0mranks\u001b[0m \u001b[1;33m=\u001b[0m \u001b[0mscipy\u001b[0m\u001b[1;33m.\u001b[0m\u001b[0mstats\u001b[0m\u001b[1;33m.\u001b[0m\u001b[0mrankdata\u001b[0m\u001b[1;33m(\u001b[0m\u001b[0mloss\u001b[0m\u001b[1;33m)\u001b[0m\u001b[1;33m\u001b[0m\u001b[1;33m\u001b[0m\u001b[0m\n",
      "\u001b[1;32mc:\\Users\\TomPace\\Documents\\GitHub\\blue-ribbon\\fusion.py\u001b[0m in \u001b[0;36mforward\u001b[1;34m(self, data)\u001b[0m\n\u001b[0;32m     64\u001b[0m         \u001b[1;31m# get scores/energies/distances for both triples\u001b[0m\u001b[1;33m\u001b[0m\u001b[1;33m\u001b[0m\u001b[1;33m\u001b[0m\u001b[0m\n\u001b[0;32m     65\u001b[0m         \u001b[0mpos\u001b[0m \u001b[1;33m=\u001b[0m \u001b[0mself\u001b[0m\u001b[1;33m.\u001b[0m\u001b[0mget_distance\u001b[0m\u001b[1;33m(\u001b[0m\u001b[0mtriple\u001b[0m\u001b[1;33m)\u001b[0m\u001b[1;33m\u001b[0m\u001b[1;33m\u001b[0m\u001b[0m\n\u001b[1;32m---> 66\u001b[1;33m         \u001b[0mneg\u001b[0m \u001b[1;33m=\u001b[0m \u001b[0mself\u001b[0m\u001b[1;33m.\u001b[0m\u001b[0mget_distance\u001b[0m\u001b[1;33m(\u001b[0m\u001b[0mcorrupted_triple\u001b[0m\u001b[1;33m)\u001b[0m\u001b[1;33m\u001b[0m\u001b[1;33m\u001b[0m\u001b[0m\n\u001b[0m\u001b[0;32m     67\u001b[0m         \u001b[1;31m# return score including margin\u001b[0m\u001b[1;33m\u001b[0m\u001b[1;33m\u001b[0m\u001b[1;33m\u001b[0m\u001b[0m\n\u001b[0;32m     68\u001b[0m         \u001b[1;32mreturn\u001b[0m \u001b[0mpos\u001b[0m \u001b[1;33m-\u001b[0m \u001b[0mneg\u001b[0m \u001b[1;33m+\u001b[0m \u001b[0mself\u001b[0m\u001b[1;33m.\u001b[0m\u001b[0mmargin\u001b[0m\u001b[1;33m\u001b[0m\u001b[1;33m\u001b[0m\u001b[0m\n",
      "\u001b[1;32mc:\\Users\\TomPace\\Documents\\GitHub\\blue-ribbon\\fusion.py\u001b[0m in \u001b[0;36mget_distance\u001b[1;34m(self, triple)\u001b[0m\n\u001b[0;32m     77\u001b[0m         \u001b[0mt\u001b[0m \u001b[1;33m=\u001b[0m \u001b[0mtriple\u001b[0m\u001b[1;33m[\u001b[0m\u001b[1;34m\"t\"\u001b[0m\u001b[1;33m]\u001b[0m\u001b[1;33m\u001b[0m\u001b[1;33m\u001b[0m\u001b[0m\n\u001b[0;32m     78\u001b[0m         \u001b[0mscore\u001b[0m \u001b[1;33m=\u001b[0m \u001b[1;33m(\u001b[0m\u001b[0mh\u001b[0m \u001b[1;33m+\u001b[0m \u001b[0mr\u001b[0m\u001b[1;33m)\u001b[0m \u001b[1;33m-\u001b[0m \u001b[0mt\u001b[0m\u001b[1;33m\u001b[0m\u001b[1;33m\u001b[0m\u001b[0m\n\u001b[1;32m---> 79\u001b[1;33m         \u001b[1;32mreturn\u001b[0m \u001b[0mtorch\u001b[0m\u001b[1;33m.\u001b[0m\u001b[0mnorm\u001b[0m\u001b[1;33m(\u001b[0m\u001b[0mscore\u001b[0m\u001b[1;33m,\u001b[0m \u001b[0mdim\u001b[0m\u001b[1;33m=\u001b[0m\u001b[1;33m-\u001b[0m\u001b[1;36m1\u001b[0m\u001b[1;33m)\u001b[0m\u001b[1;33m\u001b[0m\u001b[1;33m\u001b[0m\u001b[0m\n\u001b[0m\u001b[0;32m     80\u001b[0m \u001b[1;33m\u001b[0m\u001b[0m\n\u001b[0;32m     81\u001b[0m     \u001b[1;32mdef\u001b[0m \u001b[0midx2embeds\u001b[0m\u001b[1;33m(\u001b[0m\u001b[0mself\u001b[0m\u001b[1;33m,\u001b[0m \u001b[0mdata\u001b[0m\u001b[1;33m)\u001b[0m\u001b[1;33m:\u001b[0m\u001b[1;33m\u001b[0m\u001b[1;33m\u001b[0m\u001b[0m\n",
      "\u001b[1;32m~\\Anaconda3\\lib\\site-packages\\torch\\functional.py\u001b[0m in \u001b[0;36mnorm\u001b[1;34m(input, p, dim, keepdim, out, dtype)\u001b[0m\n\u001b[0;32m   1395\u001b[0m                 \u001b[0m_dim\u001b[0m \u001b[1;33m=\u001b[0m \u001b[0mlist\u001b[0m\u001b[1;33m(\u001b[0m\u001b[0mrange\u001b[0m\u001b[1;33m(\u001b[0m\u001b[0mndim\u001b[0m\u001b[1;33m)\u001b[0m\u001b[1;33m)\u001b[0m\u001b[1;33m\u001b[0m\u001b[1;33m\u001b[0m\u001b[0m\n\u001b[0;32m   1396\u001b[0m             \u001b[1;32mif\u001b[0m \u001b[0mout\u001b[0m \u001b[1;32mis\u001b[0m \u001b[1;32mNone\u001b[0m\u001b[1;33m:\u001b[0m\u001b[1;33m\u001b[0m\u001b[1;33m\u001b[0m\u001b[0m\n\u001b[1;32m-> 1397\u001b[1;33m                 \u001b[1;32mreturn\u001b[0m \u001b[0m_VF\u001b[0m\u001b[1;33m.\u001b[0m\u001b[0mfrobenius_norm\u001b[0m\u001b[1;33m(\u001b[0m\u001b[0minput\u001b[0m\u001b[1;33m,\u001b[0m \u001b[0m_dim\u001b[0m\u001b[1;33m,\u001b[0m \u001b[0mkeepdim\u001b[0m\u001b[1;33m=\u001b[0m\u001b[0mkeepdim\u001b[0m\u001b[1;33m)\u001b[0m  \u001b[1;31m# type: ignore\u001b[0m\u001b[1;33m\u001b[0m\u001b[1;33m\u001b[0m\u001b[0m\n\u001b[0m\u001b[0;32m   1398\u001b[0m             \u001b[1;32melse\u001b[0m\u001b[1;33m:\u001b[0m\u001b[1;33m\u001b[0m\u001b[1;33m\u001b[0m\u001b[0m\n\u001b[0;32m   1399\u001b[0m                 \u001b[1;32mreturn\u001b[0m \u001b[0m_VF\u001b[0m\u001b[1;33m.\u001b[0m\u001b[0mfrobenius_norm\u001b[0m\u001b[1;33m(\u001b[0m\u001b[0minput\u001b[0m\u001b[1;33m,\u001b[0m \u001b[0m_dim\u001b[0m\u001b[1;33m,\u001b[0m \u001b[0mkeepdim\u001b[0m\u001b[1;33m=\u001b[0m\u001b[0mkeepdim\u001b[0m\u001b[1;33m,\u001b[0m \u001b[0mout\u001b[0m\u001b[1;33m=\u001b[0m\u001b[0mout\u001b[0m\u001b[1;33m)\u001b[0m  \u001b[1;31m# type: ignore\u001b[0m\u001b[1;33m\u001b[0m\u001b[1;33m\u001b[0m\u001b[0m\n",
      "\u001b[1;31mKeyboardInterrupt\u001b[0m: "
     ]
    }
   ],
   "source": [
    "fuser = TransEFuser(embed_dim=3, max_epochs=2, n_splits=3)\n",
    "toy_kg_df = fuser.fuse(toy_df[[\"entity_id\", \"relation\", \"value\"]])"
   ]
  },
  {
   "cell_type": "code",
   "execution_count": 4,
   "metadata": {},
   "outputs": [],
   "source": [
    "full_df.to_csv(\"kg_year_df.csv\")"
   ]
  },
  {
   "cell_type": "code",
   "execution_count": 3,
   "metadata": {},
   "outputs": [
    {
     "output_type": "display_data",
     "data": {
      "text/plain": "HBox(children=(HTML(value=''), FloatProgress(value=0.0, max=103408.0), HTML(value='')))",
      "application/vnd.jupyter.widget-view+json": {
       "version_major": 2,
       "version_minor": 0,
       "model_id": "e000c482680e4ca38bb7c33bebe84a99"
      }
     },
     "metadata": {}
    },
    {
     "output_type": "stream",
     "name": "stdout",
     "text": [
      "\n"
     ]
    },
    {
     "output_type": "error",
     "ename": "KeyboardInterrupt",
     "evalue": "",
     "traceback": [
      "\u001b[1;31m---------------------------------------------------------------------------\u001b[0m",
      "\u001b[1;31mKeyboardInterrupt\u001b[0m                         Traceback (most recent call last)",
      "\u001b[1;32m<ipython-input-3-0e7d219cf64b>\u001b[0m in \u001b[0;36m<module>\u001b[1;34m\u001b[0m\n\u001b[0;32m      3\u001b[0m         \u001b[0mdf\u001b[0m \u001b[1;33m=\u001b[0m \u001b[0mfull_df\u001b[0m\u001b[1;33m.\u001b[0m\u001b[0mloc\u001b[0m\u001b[1;33m[\u001b[0m\u001b[0mfull_df\u001b[0m\u001b[1;33m[\u001b[0m\u001b[1;34m\"year_released\"\u001b[0m\u001b[1;33m]\u001b[0m \u001b[1;33m==\u001b[0m \u001b[0myear\u001b[0m\u001b[1;33m]\u001b[0m\u001b[1;33m.\u001b[0m\u001b[0mcopy\u001b[0m\u001b[1;33m(\u001b[0m\u001b[1;33m)\u001b[0m\u001b[1;33m\u001b[0m\u001b[1;33m\u001b[0m\u001b[0m\n\u001b[0;32m      4\u001b[0m         \u001b[0mfuser\u001b[0m \u001b[1;33m=\u001b[0m \u001b[0mTransEFuser\u001b[0m\u001b[1;33m(\u001b[0m\u001b[0membed_dim\u001b[0m\u001b[1;33m=\u001b[0m\u001b[1;36m3\u001b[0m\u001b[1;33m,\u001b[0m \u001b[0mmax_epochs\u001b[0m\u001b[1;33m=\u001b[0m\u001b[1;36m2\u001b[0m\u001b[1;33m,\u001b[0m \u001b[0mn_splits\u001b[0m\u001b[1;33m=\u001b[0m\u001b[1;36m3\u001b[0m\u001b[1;33m)\u001b[0m\u001b[1;33m\u001b[0m\u001b[1;33m\u001b[0m\u001b[0m\n\u001b[1;32m----> 5\u001b[1;33m         \u001b[0mkg_df\u001b[0m \u001b[1;33m=\u001b[0m \u001b[0mfuser\u001b[0m\u001b[1;33m.\u001b[0m\u001b[0mfuse\u001b[0m\u001b[1;33m(\u001b[0m\u001b[0mdf\u001b[0m\u001b[1;33m[\u001b[0m\u001b[1;33m[\u001b[0m\u001b[1;34m\"entity_id\"\u001b[0m\u001b[1;33m,\u001b[0m \u001b[1;34m\"relation\"\u001b[0m\u001b[1;33m,\u001b[0m \u001b[1;34m\"value\"\u001b[0m\u001b[1;33m]\u001b[0m\u001b[1;33m]\u001b[0m\u001b[1;33m)\u001b[0m\u001b[1;33m\u001b[0m\u001b[1;33m\u001b[0m\u001b[0m\n\u001b[0m",
      "\u001b[1;32mc:\\Users\\TomPace\\Documents\\GitHub\\blue-ribbon\\fusion.py\u001b[0m in \u001b[0;36mfuse\u001b[1;34m(self, input_kg_df)\u001b[0m\n\u001b[0;32m    341\u001b[0m                         \u001b[1;32mcontinue\u001b[0m\u001b[1;33m\u001b[0m\u001b[1;33m\u001b[0m\u001b[0m\n\u001b[0;32m    342\u001b[0m                     \u001b[0mtrans\u001b[0m\u001b[1;33m.\u001b[0m\u001b[0mfit\u001b[0m\u001b[1;33m(\u001b[0m\u001b[0mtraining_array\u001b[0m\u001b[1;33m[\u001b[0m\u001b[0mtrain_idx\u001b[0m\u001b[1;33m]\u001b[0m\u001b[1;33m)\u001b[0m\u001b[1;33m\u001b[0m\u001b[1;33m\u001b[0m\u001b[0m\n\u001b[1;32m--> 343\u001b[1;33m                     \u001b[0mnew_loss\u001b[0m \u001b[1;33m=\u001b[0m \u001b[0mtrans\u001b[0m\u001b[1;33m.\u001b[0m\u001b[0mevaluate\u001b[0m\u001b[1;33m(\u001b[0m\u001b[0mtraining_array\u001b[0m\u001b[1;33m[\u001b[0m\u001b[0mtest_idx\u001b[0m\u001b[1;33m]\u001b[0m\u001b[1;33m)\u001b[0m\u001b[1;33m\u001b[0m\u001b[1;33m\u001b[0m\u001b[0m\n\u001b[0m\u001b[0;32m    344\u001b[0m                     \u001b[1;32mif\u001b[0m \u001b[0mnew_loss\u001b[0m \u001b[1;33m>=\u001b[0m \u001b[0mloss\u001b[0m\u001b[1;33m:\u001b[0m\u001b[1;33m\u001b[0m\u001b[1;33m\u001b[0m\u001b[0m\n\u001b[0;32m    345\u001b[0m                         \u001b[0mstagnant_iterations\u001b[0m \u001b[1;33m+=\u001b[0m \u001b[1;36m1\u001b[0m\u001b[1;33m\u001b[0m\u001b[1;33m\u001b[0m\u001b[0m\n",
      "\u001b[1;32mc:\\Users\\TomPace\\Documents\\GitHub\\blue-ribbon\\fusion.py\u001b[0m in \u001b[0;36mevaluate\u001b[1;34m(self, test_array, method)\u001b[0m\n\u001b[0;32m    240\u001b[0m                     \u001b[0mtriple\u001b[0m\u001b[1;33m[\u001b[0m\u001b[1;36m0\u001b[0m\u001b[1;33m]\u001b[0m \u001b[1;33m=\u001b[0m \u001b[0mtest_entity_idx\u001b[0m\u001b[1;33m\u001b[0m\u001b[1;33m\u001b[0m\u001b[0m\n\u001b[0;32m    241\u001b[0m                     \u001b[0minput_triple\u001b[0m \u001b[1;33m=\u001b[0m \u001b[0mtorch\u001b[0m\u001b[1;33m.\u001b[0m\u001b[0mLongTensor\u001b[0m\u001b[1;33m(\u001b[0m\u001b[0mtriple\u001b[0m\u001b[1;33m)\u001b[0m\u001b[1;33m.\u001b[0m\u001b[0munsqueeze\u001b[0m\u001b[1;33m(\u001b[0m\u001b[1;36m0\u001b[0m\u001b[1;33m)\u001b[0m\u001b[1;33m\u001b[0m\u001b[1;33m\u001b[0m\u001b[0m\n\u001b[1;32m--> 242\u001b[1;33m                     \u001b[0mscores\u001b[0m \u001b[1;33m=\u001b[0m \u001b[0mself\u001b[0m\u001b[1;33m.\u001b[0m\u001b[0mforward\u001b[0m\u001b[1;33m(\u001b[0m\u001b[0minput_triple\u001b[0m\u001b[1;33m)\u001b[0m\u001b[1;33m\u001b[0m\u001b[1;33m\u001b[0m\u001b[0m\n\u001b[0m\u001b[0;32m    243\u001b[0m                     \u001b[0mloss\u001b[0m\u001b[1;33m.\u001b[0m\u001b[0mappend\u001b[0m\u001b[1;33m(\u001b[0m\u001b[0mself\u001b[0m\u001b[1;33m.\u001b[0m\u001b[0mloss_fn\u001b[0m\u001b[1;33m(\u001b[0m\u001b[0mscores\u001b[0m\u001b[1;33m)\u001b[0m\u001b[1;33m.\u001b[0m\u001b[0mdetach\u001b[0m\u001b[1;33m(\u001b[0m\u001b[1;33m)\u001b[0m\u001b[1;33m.\u001b[0m\u001b[0mnumpy\u001b[0m\u001b[1;33m(\u001b[0m\u001b[1;33m)\u001b[0m\u001b[1;33m.\u001b[0m\u001b[0mitem\u001b[0m\u001b[1;33m(\u001b[0m\u001b[1;33m)\u001b[0m\u001b[1;33m)\u001b[0m\u001b[1;33m\u001b[0m\u001b[1;33m\u001b[0m\u001b[0m\n\u001b[0;32m    244\u001b[0m                 \u001b[0mranks\u001b[0m \u001b[1;33m=\u001b[0m \u001b[0mscipy\u001b[0m\u001b[1;33m.\u001b[0m\u001b[0mstats\u001b[0m\u001b[1;33m.\u001b[0m\u001b[0mrankdata\u001b[0m\u001b[1;33m(\u001b[0m\u001b[0mloss\u001b[0m\u001b[1;33m)\u001b[0m\u001b[1;33m\u001b[0m\u001b[1;33m\u001b[0m\u001b[0m\n",
      "\u001b[1;32mc:\\Users\\TomPace\\Documents\\GitHub\\blue-ribbon\\fusion.py\u001b[0m in \u001b[0;36mforward\u001b[1;34m(self, data)\u001b[0m\n\u001b[0;32m     61\u001b[0m         \u001b[0mtriple\u001b[0m \u001b[1;33m=\u001b[0m \u001b[0mself\u001b[0m\u001b[1;33m.\u001b[0m\u001b[0midx2embeds\u001b[0m\u001b[1;33m(\u001b[0m\u001b[0mdata\u001b[0m\u001b[1;33m)\u001b[0m\u001b[1;33m\u001b[0m\u001b[1;33m\u001b[0m\u001b[0m\n\u001b[0;32m     62\u001b[0m         \u001b[1;31m# Get corrupted triple\u001b[0m\u001b[1;33m\u001b[0m\u001b[1;33m\u001b[0m\u001b[1;33m\u001b[0m\u001b[0m\n\u001b[1;32m---> 63\u001b[1;33m         \u001b[0mcorrupted_triple\u001b[0m \u001b[1;33m=\u001b[0m \u001b[0mself\u001b[0m\u001b[1;33m.\u001b[0m\u001b[0mget_corrupted_triple\u001b[0m\u001b[1;33m(\u001b[0m\u001b[0mtriple\u001b[0m\u001b[1;33m)\u001b[0m\u001b[1;33m\u001b[0m\u001b[1;33m\u001b[0m\u001b[0m\n\u001b[0m\u001b[0;32m     64\u001b[0m         \u001b[1;31m# get scores/energies/distances for both triples\u001b[0m\u001b[1;33m\u001b[0m\u001b[1;33m\u001b[0m\u001b[1;33m\u001b[0m\u001b[0m\n\u001b[0;32m     65\u001b[0m         \u001b[0mpos\u001b[0m \u001b[1;33m=\u001b[0m \u001b[0mself\u001b[0m\u001b[1;33m.\u001b[0m\u001b[0mget_distance\u001b[0m\u001b[1;33m(\u001b[0m\u001b[0mtriple\u001b[0m\u001b[1;33m)\u001b[0m\u001b[1;33m\u001b[0m\u001b[1;33m\u001b[0m\u001b[0m\n",
      "\u001b[1;32mc:\\Users\\TomPace\\Documents\\GitHub\\blue-ribbon\\fusion.py\u001b[0m in \u001b[0;36mget_corrupted_triple\u001b[1;34m(self, triple)\u001b[0m\n\u001b[0;32m    120\u001b[0m             )\n\u001b[0;32m    121\u001b[0m             corrupted_triple[corrupted_ent] = F.normalize(\n\u001b[1;32m--> 122\u001b[1;33m                 \u001b[0mself\u001b[0m\u001b[1;33m.\u001b[0m\u001b[0mval_embeds\u001b[0m\u001b[1;33m(\u001b[0m\u001b[0mrandom_ent_idx\u001b[0m\u001b[1;33m)\u001b[0m\u001b[1;33m,\u001b[0m \u001b[0mdim\u001b[0m\u001b[1;33m=\u001b[0m\u001b[1;33m-\u001b[0m\u001b[1;36m1\u001b[0m\u001b[1;33m\u001b[0m\u001b[1;33m\u001b[0m\u001b[0m\n\u001b[0m\u001b[0;32m    123\u001b[0m             )\n\u001b[0;32m    124\u001b[0m         \u001b[1;31m# print(corrupted_ent)\u001b[0m\u001b[1;33m\u001b[0m\u001b[1;33m\u001b[0m\u001b[1;33m\u001b[0m\u001b[0m\n",
      "\u001b[1;32m~\\Anaconda3\\lib\\site-packages\\torch\\nn\\functional.py\u001b[0m in \u001b[0;36mnormalize\u001b[1;34m(input, p, dim, eps, out)\u001b[0m\n\u001b[0;32m   4271\u001b[0m         \u001b[1;32mreturn\u001b[0m \u001b[0mhandle_torch_function\u001b[0m\u001b[1;33m(\u001b[0m\u001b[0mnormalize\u001b[0m\u001b[1;33m,\u001b[0m \u001b[1;33m(\u001b[0m\u001b[0minput\u001b[0m\u001b[1;33m,\u001b[0m\u001b[1;33m)\u001b[0m\u001b[1;33m,\u001b[0m \u001b[0minput\u001b[0m\u001b[1;33m,\u001b[0m \u001b[0mp\u001b[0m\u001b[1;33m=\u001b[0m\u001b[0mp\u001b[0m\u001b[1;33m,\u001b[0m \u001b[0mdim\u001b[0m\u001b[1;33m=\u001b[0m\u001b[0mdim\u001b[0m\u001b[1;33m,\u001b[0m \u001b[0meps\u001b[0m\u001b[1;33m=\u001b[0m\u001b[0meps\u001b[0m\u001b[1;33m,\u001b[0m \u001b[0mout\u001b[0m\u001b[1;33m=\u001b[0m\u001b[0mout\u001b[0m\u001b[1;33m)\u001b[0m\u001b[1;33m\u001b[0m\u001b[1;33m\u001b[0m\u001b[0m\n\u001b[0;32m   4272\u001b[0m     \u001b[1;32mif\u001b[0m \u001b[0mout\u001b[0m \u001b[1;32mis\u001b[0m \u001b[1;32mNone\u001b[0m\u001b[1;33m:\u001b[0m\u001b[1;33m\u001b[0m\u001b[1;33m\u001b[0m\u001b[0m\n\u001b[1;32m-> 4273\u001b[1;33m         \u001b[0mdenom\u001b[0m \u001b[1;33m=\u001b[0m \u001b[0minput\u001b[0m\u001b[1;33m.\u001b[0m\u001b[0mnorm\u001b[0m\u001b[1;33m(\u001b[0m\u001b[0mp\u001b[0m\u001b[1;33m,\u001b[0m \u001b[0mdim\u001b[0m\u001b[1;33m,\u001b[0m \u001b[0mkeepdim\u001b[0m\u001b[1;33m=\u001b[0m\u001b[1;32mTrue\u001b[0m\u001b[1;33m)\u001b[0m\u001b[1;33m.\u001b[0m\u001b[0mclamp_min\u001b[0m\u001b[1;33m(\u001b[0m\u001b[0meps\u001b[0m\u001b[1;33m)\u001b[0m\u001b[1;33m.\u001b[0m\u001b[0mexpand_as\u001b[0m\u001b[1;33m(\u001b[0m\u001b[0minput\u001b[0m\u001b[1;33m)\u001b[0m\u001b[1;33m\u001b[0m\u001b[1;33m\u001b[0m\u001b[0m\n\u001b[0m\u001b[0;32m   4274\u001b[0m         \u001b[1;32mreturn\u001b[0m \u001b[0minput\u001b[0m \u001b[1;33m/\u001b[0m \u001b[0mdenom\u001b[0m\u001b[1;33m\u001b[0m\u001b[1;33m\u001b[0m\u001b[0m\n\u001b[0;32m   4275\u001b[0m     \u001b[1;32melse\u001b[0m\u001b[1;33m:\u001b[0m\u001b[1;33m\u001b[0m\u001b[1;33m\u001b[0m\u001b[0m\n",
      "\u001b[1;31mKeyboardInterrupt\u001b[0m: "
     ]
    }
   ],
   "source": [
    "for year in np.sort(full_df[\"year_released\"].unique())[::-1]:\n",
    "    if year == '2017':\n",
    "        df = full_df.loc[full_df[\"year_released\"] == year].copy()\n",
    "        fuser = TransEFuser(embed_dim=3, max_epochs=2, n_splits=3)\n",
    "        kg_df = fuser.fuse(df[[\"entity_id\", \"relation\", \"value\"]])"
   ]
  },
  {
   "cell_type": "code",
   "execution_count": 4,
   "metadata": {},
   "outputs": [
    {
     "output_type": "stream",
     "name": "stdout",
     "text": [
      "Resorted to Kfold splitter.\n"
     ]
    },
    {
     "output_type": "error",
     "ename": "KeyboardInterrupt",
     "evalue": "",
     "traceback": [
      "\u001b[1;31m---------------------------------------------------------------------------\u001b[0m",
      "\u001b[1;31mKeyboardInterrupt\u001b[0m                         Traceback (most recent call last)",
      "\u001b[1;32m<ipython-input-4-9d2e2c1d2af4>\u001b[0m in \u001b[0;36m<module>\u001b[1;34m\u001b[0m\n\u001b[0;32m      4\u001b[0m \u001b[1;33m\u001b[0m\u001b[0m\n\u001b[0;32m      5\u001b[0m \u001b[0mfuser\u001b[0m \u001b[1;33m=\u001b[0m \u001b[0mTransEFuser\u001b[0m\u001b[1;33m(\u001b[0m\u001b[0membed_dim\u001b[0m\u001b[1;33m=\u001b[0m\u001b[1;36m3\u001b[0m\u001b[1;33m,\u001b[0m \u001b[0mmax_epochs\u001b[0m\u001b[1;33m=\u001b[0m\u001b[1;36m2\u001b[0m\u001b[1;33m,\u001b[0m \u001b[0mn_splits\u001b[0m\u001b[1;33m=\u001b[0m\u001b[1;36m3\u001b[0m\u001b[1;33m)\u001b[0m\u001b[1;33m\u001b[0m\u001b[1;33m\u001b[0m\u001b[0m\n\u001b[1;32m----> 6\u001b[1;33m \u001b[0mkg_df\u001b[0m \u001b[1;33m=\u001b[0m \u001b[0mfuser\u001b[0m\u001b[1;33m.\u001b[0m\u001b[0mfuse\u001b[0m\u001b[1;33m(\u001b[0m\u001b[0mkg_df\u001b[0m\u001b[1;33m)\u001b[0m\u001b[1;33m\u001b[0m\u001b[1;33m\u001b[0m\u001b[0m\n\u001b[0m",
      "\u001b[1;32mc:\\Users\\TomPace\\Documents\\GitHub\\blue-ribbon\\fusion.py\u001b[0m in \u001b[0;36mfuse\u001b[1;34m(self, input_kg_df)\u001b[0m\n\u001b[0;32m    340\u001b[0m                     \u001b[1;32mif\u001b[0m \u001b[0mstagnant_iterations\u001b[0m \u001b[1;33m>=\u001b[0m \u001b[0mself\u001b[0m\u001b[1;33m.\u001b[0m\u001b[0mpatience\u001b[0m\u001b[1;33m:\u001b[0m\u001b[1;33m\u001b[0m\u001b[1;33m\u001b[0m\u001b[0m\n\u001b[0;32m    341\u001b[0m                         \u001b[1;32mcontinue\u001b[0m\u001b[1;33m\u001b[0m\u001b[1;33m\u001b[0m\u001b[0m\n\u001b[1;32m--> 342\u001b[1;33m                     \u001b[0mtrans\u001b[0m\u001b[1;33m.\u001b[0m\u001b[0mfit\u001b[0m\u001b[1;33m(\u001b[0m\u001b[0mtraining_array\u001b[0m\u001b[1;33m[\u001b[0m\u001b[0mtrain_idx\u001b[0m\u001b[1;33m]\u001b[0m\u001b[1;33m)\u001b[0m\u001b[1;33m\u001b[0m\u001b[1;33m\u001b[0m\u001b[0m\n\u001b[0m\u001b[0;32m    343\u001b[0m                     \u001b[0mnew_loss\u001b[0m \u001b[1;33m=\u001b[0m \u001b[0mtrans\u001b[0m\u001b[1;33m.\u001b[0m\u001b[0mevaluate\u001b[0m\u001b[1;33m(\u001b[0m\u001b[0mtraining_array\u001b[0m\u001b[1;33m[\u001b[0m\u001b[0mtest_idx\u001b[0m\u001b[1;33m]\u001b[0m\u001b[1;33m)\u001b[0m\u001b[1;33m\u001b[0m\u001b[1;33m\u001b[0m\u001b[0m\n\u001b[0;32m    344\u001b[0m                     \u001b[1;32mif\u001b[0m \u001b[0mnew_loss\u001b[0m \u001b[1;33m>=\u001b[0m \u001b[0mloss\u001b[0m\u001b[1;33m:\u001b[0m\u001b[1;33m\u001b[0m\u001b[1;33m\u001b[0m\u001b[0m\n",
      "\u001b[1;32mc:\\Users\\TomPace\\Documents\\GitHub\\blue-ribbon\\fusion.py\u001b[0m in \u001b[0;36mfit\u001b[1;34m(self, training_array, perform_random_dist)\u001b[0m\n\u001b[0;32m    203\u001b[0m                 \u001b[1;31m# Step 1. Remember that Pytorch accumulates gradients.\u001b[0m\u001b[1;33m\u001b[0m\u001b[1;33m\u001b[0m\u001b[1;33m\u001b[0m\u001b[0m\n\u001b[0;32m    204\u001b[0m                 \u001b[1;31m# We need to clear them out before each instance\u001b[0m\u001b[1;33m\u001b[0m\u001b[1;33m\u001b[0m\u001b[1;33m\u001b[0m\u001b[0m\n\u001b[1;32m--> 205\u001b[1;33m                 \u001b[0mself\u001b[0m\u001b[1;33m.\u001b[0m\u001b[0mzero_grad\u001b[0m\u001b[1;33m(\u001b[0m\u001b[1;33m)\u001b[0m\u001b[1;33m\u001b[0m\u001b[1;33m\u001b[0m\u001b[0m\n\u001b[0m\u001b[0;32m    206\u001b[0m \u001b[1;33m\u001b[0m\u001b[0m\n\u001b[0;32m    207\u001b[0m                 \u001b[1;31m# Step 2. Get our inputs ready for the network, that is,\u001b[0m\u001b[1;33m\u001b[0m\u001b[1;33m\u001b[0m\u001b[1;33m\u001b[0m\u001b[0m\n",
      "\u001b[1;32m~\\Anaconda3\\lib\\site-packages\\torch\\nn\\modules\\module.py\u001b[0m in \u001b[0;36mzero_grad\u001b[1;34m(self, set_to_none)\u001b[0m\n\u001b[0;32m   1510\u001b[0m                     \u001b[1;32melse\u001b[0m\u001b[1;33m:\u001b[0m\u001b[1;33m\u001b[0m\u001b[1;33m\u001b[0m\u001b[0m\n\u001b[0;32m   1511\u001b[0m                         \u001b[0mp\u001b[0m\u001b[1;33m.\u001b[0m\u001b[0mgrad\u001b[0m\u001b[1;33m.\u001b[0m\u001b[0mrequires_grad_\u001b[0m\u001b[1;33m(\u001b[0m\u001b[1;32mFalse\u001b[0m\u001b[1;33m)\u001b[0m\u001b[1;33m\u001b[0m\u001b[1;33m\u001b[0m\u001b[0m\n\u001b[1;32m-> 1512\u001b[1;33m                     \u001b[0mp\u001b[0m\u001b[1;33m.\u001b[0m\u001b[0mgrad\u001b[0m\u001b[1;33m.\u001b[0m\u001b[0mzero_\u001b[0m\u001b[1;33m(\u001b[0m\u001b[1;33m)\u001b[0m\u001b[1;33m\u001b[0m\u001b[1;33m\u001b[0m\u001b[0m\n\u001b[0m\u001b[0;32m   1513\u001b[0m \u001b[1;33m\u001b[0m\u001b[0m\n\u001b[0;32m   1514\u001b[0m     \u001b[1;32mdef\u001b[0m \u001b[0mshare_memory\u001b[0m\u001b[1;33m(\u001b[0m\u001b[0mself\u001b[0m\u001b[1;33m:\u001b[0m \u001b[0mT\u001b[0m\u001b[1;33m)\u001b[0m \u001b[1;33m->\u001b[0m \u001b[0mT\u001b[0m\u001b[1;33m:\u001b[0m\u001b[1;33m\u001b[0m\u001b[1;33m\u001b[0m\u001b[0m\n",
      "\u001b[1;31mKeyboardInterrupt\u001b[0m: "
     ]
    }
   ],
   "source": [
    "# Example of the TransE fusion method.\n",
    "full_df = pd.read_csv(\"data/kg_df.csv\")\n",
    "entities = full_df[\"entity_id\"].unique()\n",
    "np.random.shuffle(entities)\n",
    "df = kg_df.loc[kg_df[\"entity_id\"].isin(entities[:10])]\n",
    "fuser = TransEFuser(embed_dim=3, max_epochs=2, n_splits=3)\n",
    "kg_df = fuser.fuse(kg_df)"
   ]
  },
  {
   "cell_type": "code",
   "execution_count": 6,
   "metadata": {
    "tags": [
     "outputPrepend"
    ]
   },
   "outputs": [
    {
     "output_type": "stream",
     "name": "stdout",
     "text": [
      "96\nfeatures the theme these actors 0.8937830291416001\nfeatures the theme raging hormones who learning 0.956212739666196\nfeatures the theme the special effects 0.859557922791379\nfeatures the theme your jaw 0.9607189669955802\nfeatures the theme a good bit of harmless fun 0.7659165982224327\nfeatures the theme superhero movie 0.8005689801205209\nfeatures the theme the characters 0.8959785323063019\nfeatures the theme charisma 0.7859395262592798\nfeatures the theme an innocence 0.833366928861863\nfeatures the theme execution 0.8741530540379767\nfeatures the theme spiderman 0.9322083702765583\nfeatures the theme youth acquired a reputation as the superpower 0.9318223795897311\nfeatures the theme a whole movie about the hero 0.8751199524167534\nfeatures the theme an already announced sequel 0.9007807805174253\nfeatures the theme flicks 0.9381188582717788\nfeatures the theme the whole thing 0.9492898737282399\nfeatures the theme the spirit of its source material 0.802405313421382\nfeatures the theme top of the visuals 0.7642417736912468\nfeatures the theme a story handles both large-scale superhero action 0.8972428980988159\nfeatures the theme an all-around terrific new animated film translates the jubilant experience 0.9665741672014393\nfeatures the theme a best picture nomination at the oscars 0.7974287385140457\nfeatures the theme a stunning benchmark in animated film 0.871153574455217\nfeatures the theme a visual flight 0.7923691528191041\nfeatures the theme the perfect comic onscreen 0.8533403706441922\nfeatures the theme the clones 0.9049231344117024\nfeatures the theme a trifle 0.8718864741294539\nfeatures the theme a brain 0.8305404616800451\nfeatures the theme an easy , breezy and pleasantly uncheesy spin through the universe 0.8763212116415026\nfeatures the theme the spider-man 0.8593201640187109\nfeatures the theme hammy appearances 0.794333924146563\nfeatures the theme the action scenes things fall 0.8309658665351305\nfeatures the theme the right balance of sweet shyness as peter parker 0.9082892532295622\nfeatures the theme parents 0.8702138598388041\nfeatures the theme a full live-action adventure 0.7563154978918096\nfeatures the theme dunst 0.869766744542867\nfeatures the theme exactly the kind of movie you want 0.8276044149181901\nfeatures the theme honest emotional catharsis team 0.8800517556575105\nfeatures the theme the right balance of whimsy 0.7555788921811508\nfeatures the theme the movie swings with physical and emotional energy 0.8341752018525099\nfeatures the theme + 0.8966868802173017\nfeatures the theme a mediocre means 0.8526818268137619\nfeatures the theme the best superhero films 0.8441848325842632\nfeatures the theme an important military contract 0.8809881249732889\nfeatures the theme an underground fighting tournament 0.8564554663739559\nfeatures the theme the thief he let 0.866429233708925\nfeatures the theme the process 0.9596710299745899\nfeatures the theme big emotions 0.9655747443691086\nfeatures the theme a notch for all future super-hero films 0.8709404048065073\nfeatures the theme a sort of superhero version 0.9545863022762155\nfeatures the theme flashier thrills 0.9042503618347516\nfeatures the theme double the romance 0.9589045213426448\nfeatures the theme the rare sequel 0.9811839153298674\nfeatures the theme nothing including the audience 0.8109939131561943\nfeatures the theme its sensitive exploration of emotions 0.9681158164294311\nfeatures the theme dull spots's only banal chatter 0.9132615203622325\nfeatures the theme his joy 0.9784724371166708\nfeatures the theme a great sequel 0.9646535041660023\nfeatures the theme raw , unbridled cinematic geekery 0.9848231378992112\nfeatures the theme death urgency 0.8803159861742881\nfeatures the theme his shoes 0.9867291264116553\nfeatures the theme such an entertaining retread it's 0.9808496790313751\nfeatures the theme the exposure of his precious face 0.9055273847547934\nfeatures the theme the emotional impact of his taut morality play 0.9354715458080969\nfeatures the theme a big-budget action movie 0.9517405419085775\nfeatures the theme the ideal accompaniment for super-heroic feats 0.9463882346529242\nfeatures the theme encontrado su lugar 0.9681385894596077\nfeatures the theme a grown-up love story than its predecessor 0.8431792828501685\nfeatures the theme ... a tangled web of drippy , comic-book psychodrama 0.978284684657617\nfeatures the theme showboating 0.9687606394998978\nfeatures the theme better action 0.8282165744365182\nfeatures the theme mundane details 0.8911955142380861\nfeatures the theme romance humour action outdoes its more conventionally generic predecessor 0.9068779963187023\nfeatures the theme the blockbuster kicked the franchise 0.9357119612063807\nfeatures the theme super-hero movies 0.9263844580195727\nfeatures the theme comic book heroes 0.9570875693513387\nfeatures the theme a status 0.9176749285920809\nfeatures the theme only its influence 0.8842158162014404\nfeatures the theme the kind of poise 0.9872093349683726\nfeatures the theme authorship 0.8843326496940229\nfeatures the theme both love interest watson best friend harry osborn 0.9843869865283102\nfeatures the theme eviction 0.850251036864766\nfeatures the theme his powers 0.7721582030390237\nfeatures the theme the fusion reactor 0.9806582580823446\nfeatures the theme a hospital 0.9284895054080383\nfeatures the theme order fund a second experiment 0.9899349825949547\nfeatures the theme an emotional breakdown over his inability 0.9229473596924346\nfeatures the theme choices 0.9621427396249259\nfeatures the theme the place 0.980507610798904\nfeatures the theme a segment 0.8552076635593233\nfeatures the theme too many plots 0.9812748706485165\nfeatures the theme a full head of residual good will 0.8254498414124894\nfeatures the theme revenge weaves 0.7734451517217418\nfeatures the theme a pear tree 0.8359814308113211\nfeatures the theme canny insights 0.938706273782318\nfeatures the theme daughter 0.9666215391609092\nfeatures the theme spider-man 0.9219424417145008\nfeatures the theme fulfills 0.9048761901959232\nfeatures the theme a triumph 0.9387993146256407\nfeatures the theme the puzzle of marvel's potential future 0.9775050208216323\nfeatures the theme things 0.9780130560942474\nfeatures the theme everything about the follow-up 0.8660836108470256\nfeatures the theme a bridge 0.8391834545495365\nfeatures the theme a fun 0.9383905381559463\nfeatures the theme devotees of the mcu 0.7571358191594442\nfeatures the theme great performances 0.8870395716544304\nfeatures the theme the end 0.8065907730819581\nfeatures the theme date 0.9245794745341719\nfeatures the theme life 0.8822028529720165\nfeatures the theme humour 0.7920303511914755\nfeatures the theme comedy 0.7737132806302089\nfeatures the theme the great barrier reef many a good idea grounded 0.8003869166441083\nfeatures the theme ... a breezy romp 0.8082458250306233\nfeatures the theme real-deal 0.775540321309516\nfeatures the theme personality 0.8091351388884573\nfeatures the theme a visually incoherent , effects-heavy superhero movie 0.9447441305193145\nfeatures the theme his predecessors maguire andrew garfield 0.8012065559195851\nfeatures the theme the franchise 0.8950412368948432\nfeatures the theme an older , more holistically built era of studio movies 0.9527111681512808\nfeatures the theme your jaw 0.9876544776731063\nfeatures the theme the floor 0.9925593165601788\nfeatures the theme the landscape of this shared marvel realm 0.9458823010336824\nfeatures the theme a teen flick it does 0.7757962227729557\nfeatures the theme inspiration 0.9862608202407482\nfeatures the theme risky and dangerous missions 0.9813328716412272\nfeatures the theme the cast 0.9638383098380596\nfeatures the theme a director 0.9468615807589538\nfeatures the theme spiderman 0.967065056174487\nfeatures the theme great powers 0.8710678869189534\nfeatures the theme the market 0.8105876890493069\nfeatures the theme kids 0.8462924323321769\nfeatures the theme its source material 0.9764131044449409\nfeatures the theme identity 0.9830224115914423\nfeatures the theme a lot of fun deflating 0.9109044419884824\nfeatures the theme a great movie 0.8143144239045554\nfeatures the theme the whole thing 0.9905026520300714\nfeatures the theme flash 0.7998395351001466\nfeatures the theme the best comic book movie 0.7964137267162728\nfeatures the theme adventure 0.7673897333219283\nfeatures the theme great power 0.7896823605836899\nfeatures the theme the comic book genre 0.7557552631665689\nfeatures the theme an ordinary guy with a big secret 0.9439292736854288\nfeatures the theme enough things be a solid comic-book citizen 0.8653279158363549\nfeatures the theme a solid comic-book citizen 0.9725109587850783\nfeatures the theme a movie reminds us 0.9885883347701924\nfeatures the theme potential for the sequels 0.899422829393695\nfeatures the theme an event movie leaves you 0.8040141825251517\nfeatures the theme a trifle 0.9149689985777985\nfeatures the theme big bad superhero movies 0.9713178691587246\nfeatures the theme the last time a big-ticket summer movie delivered 0.8932203195505768\nfeatures the theme craft romance humor 0.8587264501986521\nfeatures the theme a movie the spider-man converted 0.7937798339361828\nfeatures the theme the viewer who wanders 0.8849853712794047\nfeatures the theme really tawdry special effects by a cartoonish villain 0.9177584328778521\nfeatures the theme the original comic books 0.9377494155383255\nfeatures the theme a rare twisted crowd-pleaser for longtime fans 0.9739314966814181\nfeatures the theme earnestness 0.8231742695348814\nfeatures the theme a really hot redhead 0.9339047314931268\nfeatures the theme a series 0.9818034655423657\nfeatures the theme a red cape 0.9284244314382214\nfeatures the theme very few liberties 0.9649541752896157\nfeatures the theme a genetic mutation 0.9241355444131957\nfeatures the theme the right balance of whimsy 0.8529025117070146\nfeatures the theme the movie swings with physical and emotional energy 0.8839721932197329\nfeatures the theme simplistic storytelling 0.8499376918291048\nfeatures the theme voir le jour 0.9124866763172438\nfeatures the theme talent 0.9274002441589887\nfeatures the theme the backbone of the film 0.9383770818886553\nfeatures the theme aplomb 0.968368067515946\nfeatures the theme advantages 0.8435738892304632\nfeatures the theme the thief he let 0.9294573605215235\nfeatures the theme the process 0.9844706169781927\nfeatures the theme a place at his side 0.9755377959973319\nfeatures the theme his father 0.8223738729187645\nfeatures the theme his glider 0.758448598155752\nfeatures the theme the glider 0.8202602326717889\nfeatures the theme a terrific job in both films 0.9856410966414522\nfeatures the theme both films 0.9169091360862547\nfeatures the theme flashier thrills 0.8767874820121382\nfeatures the theme enough visual fireworks satisfy even the most discriminating action fan 0.9635210371270673\nfeatures the theme your fanboy pants 0.9676686239882983\nfeatures the theme all drama 0.985397376446209\nfeatures the theme front of your date 0.9440402822468648\nfeatures the theme the rare sequel 0.9927880262637395\nfeatures the theme to character development as the first film 0.9806154345092382\nfeatures the theme one's destiny 0.9341766843492854\nfeatures the theme identity crisis 0.9573465726851683\nfeatures the theme a high-wire performance 0.9926874509134005\nfeatures the theme dull spots's only banal chatter 0.9287626757903921\nfeatures the theme their preposterous comic book adventures 0.9447989798552724\nfeatures the theme his joy 0.9509807921502131\nfeatures the theme a rare treat 0.9042418550058589\nfeatures the theme a rarity it's 0.7933722021918207\nfeatures the theme reverence 0.9721348011567742\nfeatures the theme its humanity 0.9424205345828987\nfeatures the theme his taut morality play 0.8011226996432284\nfeatures the theme the dvd 0.9917678930969415\nfeatures the theme a boring decency 0.9405247969952722\nfeatures the theme [ a ] fine blockbuster the ideal accompaniment 0.9831589705442093\nfeatures the theme a superpowered sequel with soul 0.7598578655292976\nfeatures the theme minds 0.9626366192759588\nfeatures the theme such forgiveness 0.9881121519483802\nfeatures the theme drippy , comic-book psychodrama 0.9727491733496074\nfeatures the theme his characters 0.9810825376874731\nfeatures the theme an apt yet unoriginal sequel 0.9145349681430144\nfeatures the theme nos recuerda nuestra propia condición humana 0.8785354515408308\nfeatures the theme estupenda 0.9731489827632842\nfeatures the theme the most well-rounded , psychologically complex character on any movie screen 0.8926399581778834\nfeatures the theme moments of acting inspiration 0.992910079704504\nfeatures the theme the fantastic 0.9141909571325378\nfeatures the theme the upper echelons of action movies 0.9836624903804235\nfeatures the theme his game 0.9884093366119806\nfeatures the theme the biggest current bang for your popcorn buck 0.9884610891495337\nfeatures the theme awesome effects 0.9532755117341593\nfeatures the theme blissful exhaustion 0.8153540347355854\nfeatures the theme the film's smaller emotional moments 0.9840370347061045\nfeatures the theme the other hand 0.7951536884041182\nfeatures the theme romance action humor 0.9918069921742542\nfeatures the theme its more conventionally generic predecessor 0.9581493694451496\nfeatures the theme the blockbuster kicked the franchise 0.9505160151851857\nfeatures the theme both ways superheroics the super lack 0.9834429374517846\nfeatures the theme guilt 0.8818533896217183\nfeatures the theme feel-good fantasy 0.9748259197767102\nfeatures the theme a lovely performance by alfred molina 0.9818828487494307\nfeatures the theme his inability balance his life 0.9900217689176237\nfeatures the theme attempts rescue mary jane 0.9814537702162003\nfeatures the theme his dream 0.7606721254393275\nfeatures the theme the main distinction 0.8066165886177477\nfeatures the theme laziness mingles with overkill , violence 0.9048283797778292\nfeatures the theme the place 0.9915726565374614\nfeatures the theme a let after the popcorn high was spider-man 0.9247918814207465\nfeatures the theme feelings of angst 0.8567844767748528\nfeatures the theme the thing sets it 0.9389813362451517\nfeatures the theme a fantastic four sequel 0.8145487219341474\nfeatures the theme moping 0.9084675356527561\nfeatures the theme daughter 0.951157725573049\nis enjoyable 0.9452164432104123\nis warm 0.8772008451901512\nis old 0.9677635959802744\nis fashioned 0.9733456970187234\nis important 0.8134612641121032\nis eager 0.9799152787825952\nis worthy 0.8936102061338131\nis right 0.7843420299183164\nis entire 0.8675141149020533\nis single 0.9434481755628257\nis new 0.7601054779854741\nis fun 0.8265101988964252\nis clever 0.853851237613258\nis visual 0.9306213713674119\nis satisfying 0.9828571946068418\nis young 0.9607180706929296\nis real 0.9832083765337112\nis irreverent 0.8983134686358439\nis cumbersome 0.9150319835516862\nis generic 0.9815754506384142\nis powered 0.9742449544923085\nis flat 0.9691198184124947\nis excellent 0.7575762677472668\nis complicated 0.9402036984492746\nis joyous 0.7707517864265245\nis usual 0.8643513598064478\nis lower 0.9580929211376947\nis complex 0.8877121962794068\nis awful 0.9788491532613782\nis vibrant 0.9711783518514675\nis compelling 0.9304611766607448\nis true 0.9596729259550351\nis millennial 0.9326144549250778\nis slim 0.8280194477390841\nis heartfelt 0.9186621097278824\nis harmless 0.9716009025165057\nis wise 0.9143010189304768\nis red 0.9678238638190276\nis satisfied 0.7959583188928104\nis thoughtful 0.7767710595707225\nis greater 0.7597925330746835\nis stylish 0.7867992512293682\nis numerous 0.9264335505061418\nis erectile 0.8329255235774586\nis impressed 0.7655154305907871\nis friendly 0.9659578560373338\nis cinematic 0.7939621345601318\nis great 0.940792125301483\nis old 0.9835105838513285\nis hearted 0.9681928241718349\nis important 0.9106542641977247\nis sweet 0.9125648098127563\nis right 0.7931520605834452\nis ambitious 0.9157119886937185\nis single 0.7956473573964553\nis fun 0.9642170547855607\nis clever 0.9455256799949532\nis breezy 0.9432405868112547\nis jubilant 0.8884843475370022\nis comic 0.9774969216696837\nis real 0.9119462696660121\nis smaller 0.9847161121121301\nis truth 0.7531483202596954\nis bad 0.8950208553563657\nis appealing 0.9863353142711795\nis frothy 0.9702888356773682\nis woeful 0.8623591672342885\nis artistic 0.7784022798645187\nis poignant 0.8505125659160445\nis neat 0.9131799725671725\nis human 0.9798232640502017\nis stunning 0.9084204741263512\nis hero 0.9226188707856152\nis genuine 0.7863714044066407\nis nice 0.870168512836659\nis imaginative 0.8817486971910724\nis glorious 0.9773718062938801\nis american 0.8330967286798177\nis flat 0.972238585984108\nis biggest 0.9124796018980559\nis exasperating 0.9161906297255615\nis personal 0.9634413747049666\nis triumphant 0.8054019894621016\nis tiresome 0.8775807266062052\nis amusing 0.9119711531586263\nis dull 0.915845933209041\nis long 0.9321403402244988\nis compelling 0.7686415640808908\nis true 0.9709743086165094\nis heartfelt 0.9278584671560609\nis harmless 0.9360704123134163\nis imaginable 0.9169580198452356\nis modern 0.8027575148017042\nis physical 0.9863419905986274\nis throwaway 0.7676032406665981\nis talented 0.8399561473822288\nis successful 0.9496325103142875\nis cheerful 0.7629044153033588\nis colorful 0.7684323788990726\nis funnier 0.9455670616926348\nis parental 0.8877987904989522\nis responsible 0.9893642783472989\nis rational 0.7898285654104684\nis introspective 0.8610127707348243\nis underwhelming 0.926589202546727\nis engaged 0.7717118776189413\nis superlative 0.9832657585991419\nis bilo 0.8757244210338655\nis big 0.8186540496568638\nis weird 0.9463886617224965\nis perfect 0.9271214399034977\nis best 0.9594822034074871\nis emotional 0.8454522737874434\nis high 0.7729925307625257\nis hearted 0.9708664365246854\nis surprising 0.8953355602834583\nis visual 0.8423959744296563\nis overall 0.9358690002293304\nis short 0.8568744231098868\nis awesome 0.933598428616582\nis mischievous 0.926492948404002\nis real 0.9600020272728716\nis smaller 0.9717199678331893\nis bad 0.8827080042261279\nis main 0.8369422094374612\nis crafty 0.9680769515766223\nis artistic 0.7551790403931158\nis special 0.821109098321349\nis human 0.9652350534380665\nis clear 0.8993686407487935\nis hero 0.9610683986626112\nis glorious 0.983502615416912\nis american 0.7784582817721235\nis thankful 0.7569421605157582\nis gigantic 0.9309575788124949\nis flat 0.9178477535817217\nis resonant 0.7912834755544393\nis worth 0.912770873130945\nis giddy 0.8297075989819431\nis brilliant 0.8106110436770027\nis personal 0.8788535220195949\nis amusing 0.9731248730836926\nis original 0.7529067794445649\nis mediocre 0.9836107560812688\nis lower 0.9241751094492985\nis beloved 0.7653913081743285\nis reluctant 0.9252198672535897\nis slavish 0.9833622104052985\nis millennial 0.7753039735345724\nis excruciating 0.9573120726086634\nis basic 0.8176830026766009\nis smug 0.8235838240627431\nis satisfied 0.9514217904809348\nis physical 0.9755409727787663\nis keen 0.898900475980497\nis honest 0.9800740661593117\nis responsible 0.9820656725614282\nis noisy 0.88946337669327\nis commercial 0.952573280688116\nis adequate 0.8498199499452681\nis ingenious 0.9525639945351658\nis modernist 0.8331410095475713\nis outside 0.9780635670736423\nis tolerable 0.9239058598246487\nfeatures the person Peter Parker 0.8096751608164436\nfeatures the person M 0.9061397310883021\nfeatures the person Mary Jane Watson 0.8688712505901917\nfeatures the person Peter Parker 0.7778300787791025\nfeatures the person Parker 0.7767501608468945\nfeatures the person Sam Raimi 0.7977392461042602\nfeatures the person Lee 0.825102769341318\nfeatures the person Man 0.8767181985531516\nfeatures the person Parker 0.8040441436255868\nfeatures the person Feige 0.7568084399758941\nfeatures the person M 0.892646558656502\nfeatures the person Doc Ock 0.9043027933545815\nfeatures the organization Marvel 0.8967190380721843\nfeatures the organization Fleischer Studios 0.8370865004988299\nfeatures the organization Marvel 0.8683843815129383\nfeatures the organization Daily Bugle 0.8248882042717808\nfeatures the location Cineplex 0.8165894447345303\n"
     ]
    },
    {
     "output_type": "error",
     "ename": "IndexError",
     "evalue": "single positional indexer is out-of-bounds",
     "traceback": [
      "\u001b[1;31m---------------------------------------------------------------------------\u001b[0m",
      "\u001b[1;31mIndexError\u001b[0m                                Traceback (most recent call last)",
      "\u001b[1;32m<ipython-input-6-baefcc5e4857>\u001b[0m in \u001b[0;36m<module>\u001b[1;34m\u001b[0m\n\u001b[0;32m      2\u001b[0m \u001b[0mx\u001b[0m \u001b[1;33m=\u001b[0m \u001b[0mfiltered_df\u001b[0m\u001b[1;33m[\u001b[0m\u001b[0mfiltered_df\u001b[0m\u001b[1;33m[\u001b[0m\u001b[1;34m\"entity_id\"\u001b[0m\u001b[1;33m]\u001b[0m \u001b[1;33m==\u001b[0m \u001b[1;34m\"m/spiderman_2\"\u001b[0m\u001b[1;33m]\u001b[0m\u001b[1;33m\u001b[0m\u001b[1;33m\u001b[0m\u001b[0m\n\u001b[0;32m      3\u001b[0m \u001b[1;32mfor\u001b[0m \u001b[0mi\u001b[0m \u001b[1;32min\u001b[0m \u001b[0mrange\u001b[0m\u001b[1;33m(\u001b[0m\u001b[0mlen\u001b[0m\u001b[1;33m(\u001b[0m\u001b[0mfiltered_df\u001b[0m\u001b[1;33m[\u001b[0m\u001b[0mfiltered_df\u001b[0m\u001b[1;33m[\u001b[0m\u001b[1;34m\"entity_id\"\u001b[0m\u001b[1;33m]\u001b[0m \u001b[1;33m==\u001b[0m \u001b[1;34m\"m/spiderman\"\u001b[0m\u001b[1;33m]\u001b[0m\u001b[1;33m)\u001b[0m\u001b[1;33m)\u001b[0m\u001b[1;33m:\u001b[0m\u001b[1;33m\u001b[0m\u001b[1;33m\u001b[0m\u001b[0m\n\u001b[1;32m----> 4\u001b[1;33m     \u001b[0mr\u001b[0m \u001b[1;33m=\u001b[0m \u001b[0mx\u001b[0m\u001b[1;33m.\u001b[0m\u001b[0miloc\u001b[0m\u001b[1;33m[\u001b[0m\u001b[0mi\u001b[0m\u001b[1;33m]\u001b[0m\u001b[1;33m\u001b[0m\u001b[1;33m\u001b[0m\u001b[0m\n\u001b[0m\u001b[0;32m      5\u001b[0m     \u001b[0mprint\u001b[0m\u001b[1;33m(\u001b[0m\u001b[0mr\u001b[0m\u001b[1;33m[\u001b[0m\u001b[1;34m\"relation\"\u001b[0m\u001b[1;33m]\u001b[0m\u001b[1;33m,\u001b[0m \u001b[0mr\u001b[0m\u001b[1;33m[\u001b[0m\u001b[1;34m\"value\"\u001b[0m\u001b[1;33m]\u001b[0m\u001b[1;33m,\u001b[0m \u001b[0mr\u001b[0m\u001b[1;33m[\u001b[0m\u001b[1;34m\"probability\"\u001b[0m\u001b[1;33m]\u001b[0m\u001b[1;33m)\u001b[0m\u001b[1;33m\u001b[0m\u001b[1;33m\u001b[0m\u001b[0m\n",
      "\u001b[1;32m~\\Anaconda3\\lib\\site-packages\\pandas\\core\\indexing.py\u001b[0m in \u001b[0;36m__getitem__\u001b[1;34m(self, key)\u001b[0m\n\u001b[0;32m    877\u001b[0m \u001b[1;33m\u001b[0m\u001b[0m\n\u001b[0;32m    878\u001b[0m             \u001b[0mmaybe_callable\u001b[0m \u001b[1;33m=\u001b[0m \u001b[0mcom\u001b[0m\u001b[1;33m.\u001b[0m\u001b[0mapply_if_callable\u001b[0m\u001b[1;33m(\u001b[0m\u001b[0mkey\u001b[0m\u001b[1;33m,\u001b[0m \u001b[0mself\u001b[0m\u001b[1;33m.\u001b[0m\u001b[0mobj\u001b[0m\u001b[1;33m)\u001b[0m\u001b[1;33m\u001b[0m\u001b[1;33m\u001b[0m\u001b[0m\n\u001b[1;32m--> 879\u001b[1;33m             \u001b[1;32mreturn\u001b[0m \u001b[0mself\u001b[0m\u001b[1;33m.\u001b[0m\u001b[0m_getitem_axis\u001b[0m\u001b[1;33m(\u001b[0m\u001b[0mmaybe_callable\u001b[0m\u001b[1;33m,\u001b[0m \u001b[0maxis\u001b[0m\u001b[1;33m=\u001b[0m\u001b[0maxis\u001b[0m\u001b[1;33m)\u001b[0m\u001b[1;33m\u001b[0m\u001b[1;33m\u001b[0m\u001b[0m\n\u001b[0m\u001b[0;32m    880\u001b[0m \u001b[1;33m\u001b[0m\u001b[0m\n\u001b[0;32m    881\u001b[0m     \u001b[1;32mdef\u001b[0m \u001b[0m_is_scalar_access\u001b[0m\u001b[1;33m(\u001b[0m\u001b[0mself\u001b[0m\u001b[1;33m,\u001b[0m \u001b[0mkey\u001b[0m\u001b[1;33m:\u001b[0m \u001b[0mTuple\u001b[0m\u001b[1;33m)\u001b[0m\u001b[1;33m:\u001b[0m\u001b[1;33m\u001b[0m\u001b[1;33m\u001b[0m\u001b[0m\n",
      "\u001b[1;32m~\\Anaconda3\\lib\\site-packages\\pandas\\core\\indexing.py\u001b[0m in \u001b[0;36m_getitem_axis\u001b[1;34m(self, key, axis)\u001b[0m\n\u001b[0;32m   1494\u001b[0m \u001b[1;33m\u001b[0m\u001b[0m\n\u001b[0;32m   1495\u001b[0m             \u001b[1;31m# validate the location\u001b[0m\u001b[1;33m\u001b[0m\u001b[1;33m\u001b[0m\u001b[1;33m\u001b[0m\u001b[0m\n\u001b[1;32m-> 1496\u001b[1;33m             \u001b[0mself\u001b[0m\u001b[1;33m.\u001b[0m\u001b[0m_validate_integer\u001b[0m\u001b[1;33m(\u001b[0m\u001b[0mkey\u001b[0m\u001b[1;33m,\u001b[0m \u001b[0maxis\u001b[0m\u001b[1;33m)\u001b[0m\u001b[1;33m\u001b[0m\u001b[1;33m\u001b[0m\u001b[0m\n\u001b[0m\u001b[0;32m   1497\u001b[0m \u001b[1;33m\u001b[0m\u001b[0m\n\u001b[0;32m   1498\u001b[0m             \u001b[1;32mreturn\u001b[0m \u001b[0mself\u001b[0m\u001b[1;33m.\u001b[0m\u001b[0mobj\u001b[0m\u001b[1;33m.\u001b[0m\u001b[0m_ixs\u001b[0m\u001b[1;33m(\u001b[0m\u001b[0mkey\u001b[0m\u001b[1;33m,\u001b[0m \u001b[0maxis\u001b[0m\u001b[1;33m=\u001b[0m\u001b[0maxis\u001b[0m\u001b[1;33m)\u001b[0m\u001b[1;33m\u001b[0m\u001b[1;33m\u001b[0m\u001b[0m\n",
      "\u001b[1;32m~\\Anaconda3\\lib\\site-packages\\pandas\\core\\indexing.py\u001b[0m in \u001b[0;36m_validate_integer\u001b[1;34m(self, key, axis)\u001b[0m\n\u001b[0;32m   1435\u001b[0m         \u001b[0mlen_axis\u001b[0m \u001b[1;33m=\u001b[0m \u001b[0mlen\u001b[0m\u001b[1;33m(\u001b[0m\u001b[0mself\u001b[0m\u001b[1;33m.\u001b[0m\u001b[0mobj\u001b[0m\u001b[1;33m.\u001b[0m\u001b[0m_get_axis\u001b[0m\u001b[1;33m(\u001b[0m\u001b[0maxis\u001b[0m\u001b[1;33m)\u001b[0m\u001b[1;33m)\u001b[0m\u001b[1;33m\u001b[0m\u001b[1;33m\u001b[0m\u001b[0m\n\u001b[0;32m   1436\u001b[0m         \u001b[1;32mif\u001b[0m \u001b[0mkey\u001b[0m \u001b[1;33m>=\u001b[0m \u001b[0mlen_axis\u001b[0m \u001b[1;32mor\u001b[0m \u001b[0mkey\u001b[0m \u001b[1;33m<\u001b[0m \u001b[1;33m-\u001b[0m\u001b[0mlen_axis\u001b[0m\u001b[1;33m:\u001b[0m\u001b[1;33m\u001b[0m\u001b[1;33m\u001b[0m\u001b[0m\n\u001b[1;32m-> 1437\u001b[1;33m             \u001b[1;32mraise\u001b[0m \u001b[0mIndexError\u001b[0m\u001b[1;33m(\u001b[0m\u001b[1;34m\"single positional indexer is out-of-bounds\"\u001b[0m\u001b[1;33m)\u001b[0m\u001b[1;33m\u001b[0m\u001b[1;33m\u001b[0m\u001b[0m\n\u001b[0m\u001b[0;32m   1438\u001b[0m \u001b[1;33m\u001b[0m\u001b[0m\n\u001b[0;32m   1439\u001b[0m     \u001b[1;31m# -------------------------------------------------------------------\u001b[0m\u001b[1;33m\u001b[0m\u001b[1;33m\u001b[0m\u001b[1;33m\u001b[0m\u001b[0m\n",
      "\u001b[1;31mIndexError\u001b[0m: single positional indexer is out-of-bounds"
     ]
    }
   ],
   "source": [
    "filtered_df = kg_df.loc[kg_df[\"probability\"] > 0.75].reset_index(drop=True)\n",
    "x = filtered_df[filtered_df[\"entity_id\"] == \"m/spiderman_2\"]\n",
    "for i in range(len(filtered_df[filtered_df[\"entity_id\"] == \"m/spiderman\"])):\n",
    "    r = x.iloc[i]\n",
    "    print(r[\"relation\"], r[\"value\"], r[\"probability\"])"
   ]
  },
  {
   "cell_type": "code",
   "execution_count": 27,
   "metadata": {},
   "outputs": [],
   "source": [
    "full_df = pd.read_csv(\"data/complete_df.csv\")"
   ]
  },
  {
   "cell_type": "code",
   "execution_count": 28,
   "metadata": {},
   "outputs": [],
   "source": [
    "full_df[\"arc\"] = full_df[\"relation\"] + \" \" + full_df[\"value\"]\n",
    "full_df[\"indicator\"] = 1"
   ]
  },
  {
   "cell_type": "code",
   "execution_count": 29,
   "metadata": {},
   "outputs": [],
   "source": [
    "full_df[\"arc\"] = full_df[\"relation\"] + \" \" + full_df[\"value\"]\n",
    "full_df[\"indicator\"] = 1\n",
    "full_df = full_df[[\"entity_id\", \"arc\", \"indicator\"]].copy(deep=True)\n",
    "arc_df = full_df[[\"arc\", \"indicator\"]].groupby(\"arc\").count().reset_index()\n",
    "arc_df = arc_df.sort_values(\"indicator\", ascending=False).reset_index(drop=True)\n",
    "common_arc_df = arc_df.loc[arc_df[\"indicator\"] > 25]"
   ]
  },
  {
   "cell_type": "code",
   "execution_count": 36,
   "metadata": {
    "tags": []
   },
   "outputs": [
    {
     "output_type": "display_data",
     "data": {
      "text/plain": "HBox(children=(HTML(value=''), FloatProgress(value=0.0, max=10499.0), HTML(value='')))",
      "application/vnd.jupyter.widget-view+json": {
       "version_major": 2,
       "version_minor": 0,
       "model_id": "079aa0df1e3e44c1973994917516dfe0"
      }
     },
     "metadata": {}
    },
    {
     "output_type": "stream",
     "name": "stdout",
     "text": [
      "\n"
     ]
    }
   ],
   "source": [
    "cluster_df = pd.DataFrame(columns=[\"entity_id\"])\n",
    "cluster_df[\"entity_id\"] = full_df[\"entity_id\"].unique()\n",
    "arcs = common_arc_df[\"arc\"].unique()\n",
    "for arc in tqdm(arcs):\n",
    "    entities = full_df.loc[full_df[\"arc\"] == arc, \"entity_id\"].unique()\n",
    "    cluster_df[arc] = 0\n",
    "    cluster_df.loc[cluster_df[\"entity_id\"].isin(entities), arc] = 1"
   ]
  },
  {
   "cell_type": "code",
   "execution_count": 37,
   "metadata": {},
   "outputs": [],
   "source": [
    "cluster_df.to_csv(\"data\\cluster_df.csv\")"
   ]
  },
  {
   "cell_type": "code",
   "execution_count": null,
   "metadata": {},
   "outputs": [],
   "source": [
    "from sklearn.neighbors import NearestNeighbors\n",
    "knn = NearestNeighbors(n_neighbors=9)\n",
    "X = cluster_df.values\n",
    "knn.fit(X)\n",
    "distances, indices = knn.kneighbors(X)"
   ]
  },
  {
   "cell_type": "code",
   "execution_count": 34,
   "metadata": {},
   "outputs": [
    {
     "output_type": "display_data",
     "data": {
      "text/plain": "HBox(children=(HTML(value=''), FloatProgress(value=0.0, max=177.0), HTML(value='')))",
      "application/vnd.jupyter.widget-view+json": {
       "version_major": 2,
       "version_minor": 0,
       "model_id": "5f2415e55d0e4ddea9d301c21a6d2703"
      }
     },
     "metadata": {}
    },
    {
     "output_type": "stream",
     "name": "stdout",
     "text": [
      "                   entity_id  \\\n0               m/+_one_2019   \n1               m/+_one_2019   \n2               m/+_one_2019   \n3               m/+_one_2019   \n4               m/+_one_2019   \n...                      ...   \n27211  m/10008507-deep_water   \n27212  m/10008507-deep_water   \n27213  m/10008507-deep_water   \n27214  m/10008507-deep_water   \n27215  m/10008507-deep_water   \n\n                                                     arc  indicator  \n0      features the miscellaneous theme Always Be My ...          1  \n1         features the miscellaneous theme Four Weddings          1  \n2      features the miscellaneous theme Four Weddings...          1  \n3               features the miscellaneous theme Funeral          1  \n4             features the miscellaneous theme Long Shot          1  \n...                                                  ...        ...  \n27211                                        is visceral          1  \n27212                                       is watchable          1  \n27213                                           is white          1  \n27214                                           is worth          1  \n27215                                           is wrong          1  \n\n[27216 rows x 3 columns]                                        indicator                            \\\narc   features the location 18th Century Britain features the location 426   \n0                                            NaN                       NaN   \n1                                            NaN                       NaN   \n2                                            NaN                       NaN   \n3                                            NaN                       NaN   \n4                                            NaN                       NaN   \n...                                          ...                       ...   \n27211                                        NaN                       NaN   \n27212                                        NaN                       NaN   \n27213                                        NaN                       NaN   \n27214                                        NaN                       NaN   \n27215                                        NaN                       NaN   \n\n                                                         \\\narc   features the location 6 features the location A .   \n0                         NaN                       NaN   \n1                         NaN                       NaN   \n2                         NaN                       NaN   \n3                         NaN                       NaN   \n4                         NaN                       NaN   \n...                       ...                       ...   \n27211                     NaN                       NaN   \n27212                     NaN                       NaN   \n27213                     NaN                       NaN   \n27214                     NaN                       NaN   \n27215                     NaN                       NaN   \n\n                                                                   \\\narc   features the location Acheron features the location Alabama   \n0                               NaN                           NaN   \n1                               NaN                           NaN   \n2                               NaN                           NaN   \n3                               NaN                           NaN   \n4                               NaN                           NaN   \n...                             ...                           ...   \n27211                           NaN                           NaN   \n27212                           NaN                           NaN   \n27213                           NaN                           NaN   \n27214                           NaN                           NaN   \n27215                           NaN                           NaN   \n\n                                                                        \\\narc   features the location Alamo features the location Alpha Centauri   \n0                             NaN                                  NaN   \n1                             NaN                                  NaN   \n2                             NaN                                  NaN   \n3                             NaN                                  NaN   \n4                             NaN                                  NaN   \n...                           ...                                  ...   \n27211                         NaN                                  NaN   \n27212                         NaN                                  NaN   \n27213                         NaN                                  NaN   \n27214                         NaN                                  NaN   \n27215                         NaN                                  NaN   \n\n                                                                       ...  \\\narc   features the location Alt features the location Alt-na-Shellach  ...   \n0                           NaN                                   NaN  ...   \n1                           NaN                                   NaN  ...   \n2                           NaN                                   NaN  ...   \n3                           NaN                                   NaN  ...   \n4                           NaN                                   NaN  ...   \n...                         ...                                   ...  ...   \n27211                       NaN                                   NaN  ...   \n27212                       NaN                                   NaN  ...   \n27213                       NaN                                   NaN  ...   \n27214                       NaN                                   NaN  ...   \n27215                       NaN                                   NaN  ...   \n\n                                                                        \\\narc   is yellow is young is younger is youthful is yuletide is zealous   \n0           NaN      NaN        NaN         NaN         NaN        NaN   \n1           NaN      NaN        NaN         NaN         NaN        NaN   \n2           NaN      NaN        NaN         NaN         NaN        NaN   \n3           NaN      NaN        NaN         NaN         NaN        NaN   \n4           NaN      NaN        NaN         NaN         NaN        NaN   \n...         ...      ...        ...         ...         ...        ...   \n27211       NaN      NaN        NaN         NaN         NaN        NaN   \n27212       NaN      NaN        NaN         NaN         NaN        NaN   \n27213       NaN      NaN        NaN         NaN         NaN        NaN   \n27214       NaN      NaN        NaN         NaN         NaN        NaN   \n27215       NaN      NaN        NaN         NaN         NaN        NaN   \n\n                                                \narc   is zemeckis is zest is zingy is zippered  \n0             NaN     NaN      NaN         NaN  \n1             NaN     NaN      NaN         NaN  \n2             NaN     NaN      NaN         NaN  \n3             NaN     NaN      NaN         NaN  \n4             NaN     NaN      NaN         NaN  \n...           ...     ...      ...         ...  \n27211         NaN     NaN      NaN         NaN  \n27212         NaN     NaN      NaN         NaN  \n27213         NaN     NaN      NaN         NaN  \n27214         NaN     NaN      NaN         NaN  \n27215         NaN     NaN      NaN         NaN  \n\n[27216 rows x 19481 columns]\n\n"
     ]
    },
    {
     "output_type": "error",
     "ename": "TypeError",
     "evalue": "Expected tuple, got str",
     "traceback": [
      "\u001b[1;31m---------------------------------------------------------------------------\u001b[0m",
      "\u001b[1;31mTypeError\u001b[0m                                 Traceback (most recent call last)",
      "\u001b[1;32m<ipython-input-34-4176b5673564>\u001b[0m in \u001b[0;36m<module>\u001b[1;34m\u001b[0m\n\u001b[0;32m      5\u001b[0m     \u001b[0mnew_df\u001b[0m \u001b[1;33m=\u001b[0m \u001b[0msubset_df\u001b[0m\u001b[1;33m.\u001b[0m\u001b[0mpivot\u001b[0m\u001b[1;33m(\u001b[0m\u001b[0mcolumns\u001b[0m\u001b[1;33m=\u001b[0m\u001b[1;33m[\u001b[0m\u001b[1;34m\"arc\"\u001b[0m\u001b[1;33m]\u001b[0m\u001b[1;33m,\u001b[0m \u001b[0mvalues\u001b[0m\u001b[1;33m=\u001b[0m\u001b[1;33m[\u001b[0m\u001b[1;34m\"indicator\"\u001b[0m\u001b[1;33m]\u001b[0m\u001b[1;33m)\u001b[0m\u001b[1;33m\u001b[0m\u001b[1;33m\u001b[0m\u001b[0m\n\u001b[0;32m      6\u001b[0m     \u001b[0mprint\u001b[0m\u001b[1;33m(\u001b[0m\u001b[0msubset_df\u001b[0m\u001b[1;33m,\u001b[0m \u001b[0mnew_df\u001b[0m\u001b[1;33m)\u001b[0m\u001b[1;33m\u001b[0m\u001b[1;33m\u001b[0m\u001b[0m\n\u001b[1;32m----> 7\u001b[1;33m     \u001b[0mcluster_df\u001b[0m \u001b[1;33m=\u001b[0m \u001b[0mpd\u001b[0m\u001b[1;33m.\u001b[0m\u001b[0mconcat\u001b[0m\u001b[1;33m(\u001b[0m\u001b[1;33m[\u001b[0m\u001b[0mcluster_df\u001b[0m\u001b[1;33m,\u001b[0m \u001b[0mnew_df\u001b[0m\u001b[1;33m]\u001b[0m\u001b[1;33m)\u001b[0m\u001b[1;33m\u001b[0m\u001b[1;33m\u001b[0m\u001b[0m\n\u001b[0m",
      "\u001b[1;32m~\\Anaconda3\\lib\\site-packages\\pandas\\core\\reshape\\concat.py\u001b[0m in \u001b[0;36mconcat\u001b[1;34m(objs, axis, join, ignore_index, keys, levels, names, verify_integrity, sort, copy)\u001b[0m\n\u001b[0;32m    285\u001b[0m     )\n\u001b[0;32m    286\u001b[0m \u001b[1;33m\u001b[0m\u001b[0m\n\u001b[1;32m--> 287\u001b[1;33m     \u001b[1;32mreturn\u001b[0m \u001b[0mop\u001b[0m\u001b[1;33m.\u001b[0m\u001b[0mget_result\u001b[0m\u001b[1;33m(\u001b[0m\u001b[1;33m)\u001b[0m\u001b[1;33m\u001b[0m\u001b[1;33m\u001b[0m\u001b[0m\n\u001b[0m\u001b[0;32m    288\u001b[0m \u001b[1;33m\u001b[0m\u001b[0m\n\u001b[0;32m    289\u001b[0m \u001b[1;33m\u001b[0m\u001b[0m\n",
      "\u001b[1;32m~\\Anaconda3\\lib\\site-packages\\pandas\\core\\reshape\\concat.py\u001b[0m in \u001b[0;36mget_result\u001b[1;34m(self)\u001b[0m\n\u001b[0;32m    496\u001b[0m                     \u001b[0mobj_labels\u001b[0m \u001b[1;33m=\u001b[0m \u001b[0mobj\u001b[0m\u001b[1;33m.\u001b[0m\u001b[0maxes\u001b[0m\u001b[1;33m[\u001b[0m\u001b[1;36m1\u001b[0m \u001b[1;33m-\u001b[0m \u001b[0max\u001b[0m\u001b[1;33m]\u001b[0m\u001b[1;33m\u001b[0m\u001b[1;33m\u001b[0m\u001b[0m\n\u001b[0;32m    497\u001b[0m                     \u001b[1;32mif\u001b[0m \u001b[1;32mnot\u001b[0m \u001b[0mnew_labels\u001b[0m\u001b[1;33m.\u001b[0m\u001b[0mequals\u001b[0m\u001b[1;33m(\u001b[0m\u001b[0mobj_labels\u001b[0m\u001b[1;33m)\u001b[0m\u001b[1;33m:\u001b[0m\u001b[1;33m\u001b[0m\u001b[1;33m\u001b[0m\u001b[0m\n\u001b[1;32m--> 498\u001b[1;33m                         \u001b[0mindexers\u001b[0m\u001b[1;33m[\u001b[0m\u001b[0max\u001b[0m\u001b[1;33m]\u001b[0m \u001b[1;33m=\u001b[0m \u001b[0mobj_labels\u001b[0m\u001b[1;33m.\u001b[0m\u001b[0mreindex\u001b[0m\u001b[1;33m(\u001b[0m\u001b[0mnew_labels\u001b[0m\u001b[1;33m)\u001b[0m\u001b[1;33m[\u001b[0m\u001b[1;36m1\u001b[0m\u001b[1;33m]\u001b[0m\u001b[1;33m\u001b[0m\u001b[1;33m\u001b[0m\u001b[0m\n\u001b[0m\u001b[0;32m    499\u001b[0m \u001b[1;33m\u001b[0m\u001b[0m\n\u001b[0;32m    500\u001b[0m                 \u001b[0mmgrs_indexers\u001b[0m\u001b[1;33m.\u001b[0m\u001b[0mappend\u001b[0m\u001b[1;33m(\u001b[0m\u001b[1;33m(\u001b[0m\u001b[0mobj\u001b[0m\u001b[1;33m.\u001b[0m\u001b[0m_mgr\u001b[0m\u001b[1;33m,\u001b[0m \u001b[0mindexers\u001b[0m\u001b[1;33m)\u001b[0m\u001b[1;33m)\u001b[0m\u001b[1;33m\u001b[0m\u001b[1;33m\u001b[0m\u001b[0m\n",
      "\u001b[1;32m~\\Anaconda3\\lib\\site-packages\\pandas\\core\\indexes\\multi.py\u001b[0m in \u001b[0;36mreindex\u001b[1;34m(self, target, method, level, limit, tolerance)\u001b[0m\n\u001b[0;32m   2326\u001b[0m             \u001b[1;32melse\u001b[0m\u001b[1;33m:\u001b[0m\u001b[1;33m\u001b[0m\u001b[1;33m\u001b[0m\u001b[0m\n\u001b[0;32m   2327\u001b[0m                 \u001b[1;31m# hopefully?\u001b[0m\u001b[1;33m\u001b[0m\u001b[1;33m\u001b[0m\u001b[1;33m\u001b[0m\u001b[0m\n\u001b[1;32m-> 2328\u001b[1;33m                 \u001b[0mtarget\u001b[0m \u001b[1;33m=\u001b[0m \u001b[0mMultiIndex\u001b[0m\u001b[1;33m.\u001b[0m\u001b[0mfrom_tuples\u001b[0m\u001b[1;33m(\u001b[0m\u001b[0mtarget\u001b[0m\u001b[1;33m)\u001b[0m\u001b[1;33m\u001b[0m\u001b[1;33m\u001b[0m\u001b[0m\n\u001b[0m\u001b[0;32m   2329\u001b[0m \u001b[1;33m\u001b[0m\u001b[0m\n\u001b[0;32m   2330\u001b[0m         if (\n",
      "\u001b[1;32m~\\Anaconda3\\lib\\site-packages\\pandas\\core\\indexes\\multi.py\u001b[0m in \u001b[0;36mfrom_tuples\u001b[1;34m(cls, tuples, sortorder, names)\u001b[0m\n\u001b[0;32m    499\u001b[0m                 \u001b[0mtuples\u001b[0m \u001b[1;33m=\u001b[0m \u001b[0mtuples\u001b[0m\u001b[1;33m.\u001b[0m\u001b[0m_values\u001b[0m\u001b[1;33m\u001b[0m\u001b[1;33m\u001b[0m\u001b[0m\n\u001b[0;32m    500\u001b[0m \u001b[1;33m\u001b[0m\u001b[0m\n\u001b[1;32m--> 501\u001b[1;33m             \u001b[0marrays\u001b[0m \u001b[1;33m=\u001b[0m \u001b[0mlist\u001b[0m\u001b[1;33m(\u001b[0m\u001b[0mlib\u001b[0m\u001b[1;33m.\u001b[0m\u001b[0mtuples_to_object_array\u001b[0m\u001b[1;33m(\u001b[0m\u001b[0mtuples\u001b[0m\u001b[1;33m)\u001b[0m\u001b[1;33m.\u001b[0m\u001b[0mT\u001b[0m\u001b[1;33m)\u001b[0m\u001b[1;33m\u001b[0m\u001b[1;33m\u001b[0m\u001b[0m\n\u001b[0m\u001b[0;32m    502\u001b[0m         \u001b[1;32melif\u001b[0m \u001b[0misinstance\u001b[0m\u001b[1;33m(\u001b[0m\u001b[0mtuples\u001b[0m\u001b[1;33m,\u001b[0m \u001b[0mlist\u001b[0m\u001b[1;33m)\u001b[0m\u001b[1;33m:\u001b[0m\u001b[1;33m\u001b[0m\u001b[1;33m\u001b[0m\u001b[0m\n\u001b[0;32m    503\u001b[0m             \u001b[0marrays\u001b[0m \u001b[1;33m=\u001b[0m \u001b[0mlist\u001b[0m\u001b[1;33m(\u001b[0m\u001b[0mlib\u001b[0m\u001b[1;33m.\u001b[0m\u001b[0mto_object_array_tuples\u001b[0m\u001b[1;33m(\u001b[0m\u001b[0mtuples\u001b[0m\u001b[1;33m)\u001b[0m\u001b[1;33m.\u001b[0m\u001b[0mT\u001b[0m\u001b[1;33m)\u001b[0m\u001b[1;33m\u001b[0m\u001b[1;33m\u001b[0m\u001b[0m\n",
      "\u001b[1;32mpandas\\_libs\\lib.pyx\u001b[0m in \u001b[0;36mpandas._libs.lib.tuples_to_object_array\u001b[1;34m()\u001b[0m\n",
      "\u001b[1;31mTypeError\u001b[0m: Expected tuple, got str"
     ]
    }
   ],
   "source": [
    "entities = df[\"entity_id\"].unique()\n",
    "cluster_df = pd.DataFrame(columns=[\"entity_id\", \"arc\", \"indicator\"])\n",
    "for i in tqdm(range(0, len(entities), 100)):\n",
    "    subset_df = df.loc[df[\"entity_id\"].isin(entities[i:i+100])]\n",
    "    new_df = subset_df.pivot(columns=[\"arc\"], values=[\"indicator\"])\n",
    "    print(subset_df, new_df)\n",
    "    cluster_df = pd.concat([cluster_df, new_df])"
   ]
  },
  {
   "cell_type": "code",
   "execution_count": 38,
   "metadata": {},
   "outputs": [
    {
     "output_type": "execute_result",
     "data": {
      "text/plain": [
       "                                       indicator                            \\\n",
       "arc   features the location 18th Century Britain features the location 426   \n",
       "0                                            NaN                       NaN   \n",
       "1                                            NaN                       NaN   \n",
       "2                                            NaN                       NaN   \n",
       "3                                            NaN                       NaN   \n",
       "4                                            NaN                       NaN   \n",
       "...                                          ...                       ...   \n",
       "27211                                        NaN                       NaN   \n",
       "27212                                        NaN                       NaN   \n",
       "27213                                        NaN                       NaN   \n",
       "27214                                        NaN                       NaN   \n",
       "27215                                        NaN                       NaN   \n",
       "\n",
       "                                                         \\\n",
       "arc   features the location 6 features the location A .   \n",
       "0                         NaN                       NaN   \n",
       "1                         NaN                       NaN   \n",
       "2                         NaN                       NaN   \n",
       "3                         NaN                       NaN   \n",
       "4                         NaN                       NaN   \n",
       "...                       ...                       ...   \n",
       "27211                     NaN                       NaN   \n",
       "27212                     NaN                       NaN   \n",
       "27213                     NaN                       NaN   \n",
       "27214                     NaN                       NaN   \n",
       "27215                     NaN                       NaN   \n",
       "\n",
       "                                                                   \\\n",
       "arc   features the location Acheron features the location Alabama   \n",
       "0                               NaN                           NaN   \n",
       "1                               NaN                           NaN   \n",
       "2                               NaN                           NaN   \n",
       "3                               NaN                           NaN   \n",
       "4                               NaN                           NaN   \n",
       "...                             ...                           ...   \n",
       "27211                           NaN                           NaN   \n",
       "27212                           NaN                           NaN   \n",
       "27213                           NaN                           NaN   \n",
       "27214                           NaN                           NaN   \n",
       "27215                           NaN                           NaN   \n",
       "\n",
       "                                                                        \\\n",
       "arc   features the location Alamo features the location Alpha Centauri   \n",
       "0                             NaN                                  NaN   \n",
       "1                             NaN                                  NaN   \n",
       "2                             NaN                                  NaN   \n",
       "3                             NaN                                  NaN   \n",
       "4                             NaN                                  NaN   \n",
       "...                           ...                                  ...   \n",
       "27211                         NaN                                  NaN   \n",
       "27212                         NaN                                  NaN   \n",
       "27213                         NaN                                  NaN   \n",
       "27214                         NaN                                  NaN   \n",
       "27215                         NaN                                  NaN   \n",
       "\n",
       "                                                                       ...  \\\n",
       "arc   features the location Alt features the location Alt-na-Shellach  ...   \n",
       "0                           NaN                                   NaN  ...   \n",
       "1                           NaN                                   NaN  ...   \n",
       "2                           NaN                                   NaN  ...   \n",
       "3                           NaN                                   NaN  ...   \n",
       "4                           NaN                                   NaN  ...   \n",
       "...                         ...                                   ...  ...   \n",
       "27211                       NaN                                   NaN  ...   \n",
       "27212                       NaN                                   NaN  ...   \n",
       "27213                       NaN                                   NaN  ...   \n",
       "27214                       NaN                                   NaN  ...   \n",
       "27215                       NaN                                   NaN  ...   \n",
       "\n",
       "                                                                        \\\n",
       "arc   is yellow is young is younger is youthful is yuletide is zealous   \n",
       "0           NaN      NaN        NaN         NaN         NaN        NaN   \n",
       "1           NaN      NaN        NaN         NaN         NaN        NaN   \n",
       "2           NaN      NaN        NaN         NaN         NaN        NaN   \n",
       "3           NaN      NaN        NaN         NaN         NaN        NaN   \n",
       "4           NaN      NaN        NaN         NaN         NaN        NaN   \n",
       "...         ...      ...        ...         ...         ...        ...   \n",
       "27211       NaN      NaN        NaN         NaN         NaN        NaN   \n",
       "27212       NaN      NaN        NaN         NaN         NaN        NaN   \n",
       "27213       NaN      NaN        NaN         NaN         NaN        NaN   \n",
       "27214       NaN      NaN        NaN         NaN         NaN        NaN   \n",
       "27215       NaN      NaN        NaN         NaN         NaN        NaN   \n",
       "\n",
       "                                                \n",
       "arc   is zemeckis is zest is zingy is zippered  \n",
       "0             NaN     NaN      NaN         NaN  \n",
       "1             NaN     NaN      NaN         NaN  \n",
       "2             NaN     NaN      NaN         NaN  \n",
       "3             NaN     NaN      NaN         NaN  \n",
       "4             NaN     NaN      NaN         NaN  \n",
       "...           ...     ...      ...         ...  \n",
       "27211         NaN     NaN      NaN         NaN  \n",
       "27212         NaN     NaN      NaN         NaN  \n",
       "27213         NaN     NaN      NaN         NaN  \n",
       "27214         NaN     NaN      NaN         NaN  \n",
       "27215         NaN     NaN      NaN         NaN  \n",
       "\n",
       "[27216 rows x 19481 columns]"
      ],
      "text/html": "<div>\n<style scoped>\n    .dataframe tbody tr th:only-of-type {\n        vertical-align: middle;\n    }\n\n    .dataframe tbody tr th {\n        vertical-align: top;\n    }\n\n    .dataframe thead tr th {\n        text-align: left;\n    }\n</style>\n<table border=\"1\" class=\"dataframe\">\n  <thead>\n    <tr>\n      <th></th>\n      <th colspan=\"21\" halign=\"left\">indicator</th>\n    </tr>\n    <tr>\n      <th>arc</th>\n      <th>features the location 18th Century Britain</th>\n      <th>features the location 426</th>\n      <th>features the location 6</th>\n      <th>features the location A .</th>\n      <th>features the location Acheron</th>\n      <th>features the location Alabama</th>\n      <th>features the location Alamo</th>\n      <th>features the location Alpha Centauri</th>\n      <th>features the location Alt</th>\n      <th>features the location Alt-na-Shellach</th>\n      <th>...</th>\n      <th>is yellow</th>\n      <th>is young</th>\n      <th>is younger</th>\n      <th>is youthful</th>\n      <th>is yuletide</th>\n      <th>is zealous</th>\n      <th>is zemeckis</th>\n      <th>is zest</th>\n      <th>is zingy</th>\n      <th>is zippered</th>\n    </tr>\n  </thead>\n  <tbody>\n    <tr>\n      <th>0</th>\n      <td>NaN</td>\n      <td>NaN</td>\n      <td>NaN</td>\n      <td>NaN</td>\n      <td>NaN</td>\n      <td>NaN</td>\n      <td>NaN</td>\n      <td>NaN</td>\n      <td>NaN</td>\n      <td>NaN</td>\n      <td>...</td>\n      <td>NaN</td>\n      <td>NaN</td>\n      <td>NaN</td>\n      <td>NaN</td>\n      <td>NaN</td>\n      <td>NaN</td>\n      <td>NaN</td>\n      <td>NaN</td>\n      <td>NaN</td>\n      <td>NaN</td>\n    </tr>\n    <tr>\n      <th>1</th>\n      <td>NaN</td>\n      <td>NaN</td>\n      <td>NaN</td>\n      <td>NaN</td>\n      <td>NaN</td>\n      <td>NaN</td>\n      <td>NaN</td>\n      <td>NaN</td>\n      <td>NaN</td>\n      <td>NaN</td>\n      <td>...</td>\n      <td>NaN</td>\n      <td>NaN</td>\n      <td>NaN</td>\n      <td>NaN</td>\n      <td>NaN</td>\n      <td>NaN</td>\n      <td>NaN</td>\n      <td>NaN</td>\n      <td>NaN</td>\n      <td>NaN</td>\n    </tr>\n    <tr>\n      <th>2</th>\n      <td>NaN</td>\n      <td>NaN</td>\n      <td>NaN</td>\n      <td>NaN</td>\n      <td>NaN</td>\n      <td>NaN</td>\n      <td>NaN</td>\n      <td>NaN</td>\n      <td>NaN</td>\n      <td>NaN</td>\n      <td>...</td>\n      <td>NaN</td>\n      <td>NaN</td>\n      <td>NaN</td>\n      <td>NaN</td>\n      <td>NaN</td>\n      <td>NaN</td>\n      <td>NaN</td>\n      <td>NaN</td>\n      <td>NaN</td>\n      <td>NaN</td>\n    </tr>\n    <tr>\n      <th>3</th>\n      <td>NaN</td>\n      <td>NaN</td>\n      <td>NaN</td>\n      <td>NaN</td>\n      <td>NaN</td>\n      <td>NaN</td>\n      <td>NaN</td>\n      <td>NaN</td>\n      <td>NaN</td>\n      <td>NaN</td>\n      <td>...</td>\n      <td>NaN</td>\n      <td>NaN</td>\n      <td>NaN</td>\n      <td>NaN</td>\n      <td>NaN</td>\n      <td>NaN</td>\n      <td>NaN</td>\n      <td>NaN</td>\n      <td>NaN</td>\n      <td>NaN</td>\n    </tr>\n    <tr>\n      <th>4</th>\n      <td>NaN</td>\n      <td>NaN</td>\n      <td>NaN</td>\n      <td>NaN</td>\n      <td>NaN</td>\n      <td>NaN</td>\n      <td>NaN</td>\n      <td>NaN</td>\n      <td>NaN</td>\n      <td>NaN</td>\n      <td>...</td>\n      <td>NaN</td>\n      <td>NaN</td>\n      <td>NaN</td>\n      <td>NaN</td>\n      <td>NaN</td>\n      <td>NaN</td>\n      <td>NaN</td>\n      <td>NaN</td>\n      <td>NaN</td>\n      <td>NaN</td>\n    </tr>\n    <tr>\n      <th>...</th>\n      <td>...</td>\n      <td>...</td>\n      <td>...</td>\n      <td>...</td>\n      <td>...</td>\n      <td>...</td>\n      <td>...</td>\n      <td>...</td>\n      <td>...</td>\n      <td>...</td>\n      <td>...</td>\n      <td>...</td>\n      <td>...</td>\n      <td>...</td>\n      <td>...</td>\n      <td>...</td>\n      <td>...</td>\n      <td>...</td>\n      <td>...</td>\n      <td>...</td>\n      <td>...</td>\n    </tr>\n    <tr>\n      <th>27211</th>\n      <td>NaN</td>\n      <td>NaN</td>\n      <td>NaN</td>\n      <td>NaN</td>\n      <td>NaN</td>\n      <td>NaN</td>\n      <td>NaN</td>\n      <td>NaN</td>\n      <td>NaN</td>\n      <td>NaN</td>\n      <td>...</td>\n      <td>NaN</td>\n      <td>NaN</td>\n      <td>NaN</td>\n      <td>NaN</td>\n      <td>NaN</td>\n      <td>NaN</td>\n      <td>NaN</td>\n      <td>NaN</td>\n      <td>NaN</td>\n      <td>NaN</td>\n    </tr>\n    <tr>\n      <th>27212</th>\n      <td>NaN</td>\n      <td>NaN</td>\n      <td>NaN</td>\n      <td>NaN</td>\n      <td>NaN</td>\n      <td>NaN</td>\n      <td>NaN</td>\n      <td>NaN</td>\n      <td>NaN</td>\n      <td>NaN</td>\n      <td>...</td>\n      <td>NaN</td>\n      <td>NaN</td>\n      <td>NaN</td>\n      <td>NaN</td>\n      <td>NaN</td>\n      <td>NaN</td>\n      <td>NaN</td>\n      <td>NaN</td>\n      <td>NaN</td>\n      <td>NaN</td>\n    </tr>\n    <tr>\n      <th>27213</th>\n      <td>NaN</td>\n      <td>NaN</td>\n      <td>NaN</td>\n      <td>NaN</td>\n      <td>NaN</td>\n      <td>NaN</td>\n      <td>NaN</td>\n      <td>NaN</td>\n      <td>NaN</td>\n      <td>NaN</td>\n      <td>...</td>\n      <td>NaN</td>\n      <td>NaN</td>\n      <td>NaN</td>\n      <td>NaN</td>\n      <td>NaN</td>\n      <td>NaN</td>\n      <td>NaN</td>\n      <td>NaN</td>\n      <td>NaN</td>\n      <td>NaN</td>\n    </tr>\n    <tr>\n      <th>27214</th>\n      <td>NaN</td>\n      <td>NaN</td>\n      <td>NaN</td>\n      <td>NaN</td>\n      <td>NaN</td>\n      <td>NaN</td>\n      <td>NaN</td>\n      <td>NaN</td>\n      <td>NaN</td>\n      <td>NaN</td>\n      <td>...</td>\n      <td>NaN</td>\n      <td>NaN</td>\n      <td>NaN</td>\n      <td>NaN</td>\n      <td>NaN</td>\n      <td>NaN</td>\n      <td>NaN</td>\n      <td>NaN</td>\n      <td>NaN</td>\n      <td>NaN</td>\n    </tr>\n    <tr>\n      <th>27215</th>\n      <td>NaN</td>\n      <td>NaN</td>\n      <td>NaN</td>\n      <td>NaN</td>\n      <td>NaN</td>\n      <td>NaN</td>\n      <td>NaN</td>\n      <td>NaN</td>\n      <td>NaN</td>\n      <td>NaN</td>\n      <td>...</td>\n      <td>NaN</td>\n      <td>NaN</td>\n      <td>NaN</td>\n      <td>NaN</td>\n      <td>NaN</td>\n      <td>NaN</td>\n      <td>NaN</td>\n      <td>NaN</td>\n      <td>NaN</td>\n      <td>NaN</td>\n    </tr>\n  </tbody>\n</table>\n<p>27216 rows × 19481 columns</p>\n</div>"
     },
     "metadata": {},
     "execution_count": 38
    }
   ],
   "source": [
    "full_df.pivot(columns=[\"relation\"], )"
   ]
  },
  {
   "cell_type": "code",
   "execution_count": 53,
   "metadata": {},
   "outputs": [],
   "source": [
    "df = pd.read_csv(\"data/known_df.csv\")"
   ]
  },
  {
   "cell_type": "code",
   "execution_count": 54,
   "metadata": {},
   "outputs": [],
   "source": [
    "df[\"arc\"] = df[\"relation\"] + \" \" + df[\"value\"]\n",
    "df[\"indicator\"] = 1"
   ]
  },
  {
   "cell_type": "code",
   "execution_count": 55,
   "metadata": {},
   "outputs": [],
   "source": [
    "df = df[[\"entity_id\", \"arc\", \"indicator\"]].copy(deep=True)\n",
    "df = df.groupby([\"entity_id\", \"arc\"]).count().reset_index()"
   ]
  },
  {
   "cell_type": "code",
   "execution_count": 56,
   "metadata": {},
   "outputs": [],
   "source": [
    "df = df.drop_duplicates()"
   ]
  },
  {
   "cell_type": "code",
   "execution_count": 57,
   "metadata": {},
   "outputs": [],
   "source": [
    "cluster_df = df.pivot(index=[\"entity_id\"], columns=[\"arc\"], values=[\"indicator\"])\n",
    "for c in cluster_df.columns:\n",
    "    cluster_df[c] = cluster_df[c].fillna(0)"
   ]
  },
  {
   "cell_type": "code",
   "execution_count": 63,
   "metadata": {},
   "outputs": [],
   "source": [
    "from sklearn.neighbors import NearestNeighbors\n",
    "knn = NearestNeighbors(n_neighbors=9)\n",
    "X = cluster_df.values\n",
    "knn.fit(X)\n",
    "distances, indices = knn.kneighbors(X)"
   ]
  },
  {
   "cell_type": "code",
   "execution_count": 64,
   "metadata": {},
   "outputs": [],
   "source": [
    "knn = NearestNeighbors(n_neighbors=9)\n",
    "X = cluster_df.values\n",
    "knn.fit(X)\n",
    "distances, indices = knn.kneighbors(X)"
   ]
  },
  {
   "cell_type": "code",
   "execution_count": null,
   "metadata": {},
   "outputs": [],
   "source": []
  }
 ]
}