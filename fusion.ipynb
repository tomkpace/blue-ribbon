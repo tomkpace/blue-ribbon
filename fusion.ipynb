{
 "metadata": {
  "language_info": {
   "codemirror_mode": {
    "name": "ipython",
    "version": 3
   },
   "file_extension": ".py",
   "mimetype": "text/x-python",
   "name": "python",
   "nbconvert_exporter": "python",
   "pygments_lexer": "ipython3",
   "version": "3.7.3"
  },
  "orig_nbformat": 2,
  "kernelspec": {
   "name": "python37364bitbaseconda695c26050d2f45bb8896ce2b0036a0bd",
   "display_name": "Python 3.7.3 64-bit ('base': conda)"
  },
  "metadata": {
   "interpreter": {
    "hash": "63d0a0a306d17f9618fcd2df71f8943413e3c03229e5631c7d32ac919a8133cf"
   }
  }
 },
 "nbformat": 4,
 "nbformat_minor": 2,
 "cells": [
  {
   "cell_type": "code",
   "execution_count": 1,
   "metadata": {},
   "outputs": [],
   "source": [
    "import os\n",
    "import numpy as np\n",
    "import pandas as pd\n",
    "from knowledge_graph_generator import KnowledgeGraphGenerator\n",
    "from fusion import TransEFuser"
   ]
  },
  {
   "cell_type": "code",
   "execution_count": 2,
   "metadata": {},
   "outputs": [],
   "source": [
    "df = pd.read_csv(\"data/kg_count_year_df.csv\")"
   ]
  },
  {
   "cell_type": "code",
   "execution_count": 3,
   "metadata": {},
   "outputs": [],
   "source": [
    "df = df[[\"entity_id\", \"relation\", \"value\"]]\n",
    "df.to_csv(\"data/raw_kg_df.csv\", index=False)"
   ]
  },
  {
   "cell_type": "code",
   "execution_count": 4,
   "metadata": {},
   "outputs": [],
   "source": [
    "# TransEFuser Example:  The TransEFuser can fuse a knowledge graph\n",
    "# composed of noisy and potentially conflicting triples and generate\n",
    "# a distance for each triple where the distance is a measure of \n",
    "# how \"true\" that triple is based on the training data.  This method\n",
    "# uses a modification of the TransE translational embedding technique.\n",
    "# Example:\n",
    "# TransEFuser is instantiated with a KnowledgeGraphGenerator object.\n",
    "# Load the full knowledge graph DataFrame.\n",
    "raw_kg_df = pd.read_csv(\"data/raw_kg_df.csv\")\n",
    "# Construct a toy dataset with only AMAZING movies.\n",
    "toy_movie_list = [\n",
    "    \"m/terminator\",\n",
    "    \"m/spaceballs\",\n",
    "    \"m/dumb_and_dumber\",\n",
    "    \"m/demolition_man\",\n",
    "    \"m/hot_tub_time_machine\",\n",
    "]\n",
    "toy_df = raw_kg_df.loc[raw_kg_df[\"entity_id\"].isin(toy_movie_list)]\n",
    "kg_obj = KnowledgeGraphGenerator(known_data_list=[toy_df])\n",
    "# Instantiate the TransEFuser object.\n",
    "fuser = TransEFuser(kg_obj)\n",
    "# Fuse the knowledge graph.\n",
    "fused_kg_df = fuser.fuse()"
   ]
  },
  {
   "cell_type": "code",
   "execution_count": 5,
   "metadata": {},
   "outputs": [
    {
     "output_type": "stream",
     "name": "stdout",
     "text": [
      "                  entity_id relation    value  distance\n567  m/hot_tub_time_machine       is  lowbrow  1.549807\n566       m/dumb_and_dumber       is  lowbrow  1.918002\n\n\n         entity_id            relation               value  distance\n1880  m/terminator  features the theme  a murderous cyborg   2.08909\n"
     ]
    }
   ],
   "source": [
    "# The distance conveys how \"true\" the triple is given\n",
    "# the training data.  Certain triples seem spot on.\n",
    "print(fused_kg_df[fused_kg_df[\"value\"] == \"lowbrow\"].sort_values(\"distance\"))\n",
    "print(\"\\n\")\n",
    "print(fused_kg_df[fused_kg_df[\"value\"] == \"a murderous cyborg\"].sort_values(\"distance\"))"
   ]
  },
  {
   "cell_type": "code",
   "execution_count": 6,
   "metadata": {},
   "outputs": [
    {
     "output_type": "execute_result",
     "data": {
      "text/plain": [
       "                   entity_id                          relation  \\\n",
       "161         m/demolition_man                                is   \n",
       "789   m/hot_tub_time_machine                features the theme   \n",
       "2262  m/hot_tub_time_machine  features the miscellaneous theme   \n",
       "2228  m/hot_tub_time_machine  features the miscellaneous theme   \n",
       "893        m/dumb_and_dumber                features the theme   \n",
       "362             m/spaceballs                                is   \n",
       "324         m/demolition_man                                is   \n",
       "145         m/demolition_man                                is   \n",
       "1979  m/hot_tub_time_machine                features the theme   \n",
       "2222            m/terminator  features the miscellaneous theme   \n",
       "\n",
       "                                                  value  distance  \n",
       "161                                             amusing  1.947682  \n",
       "789                                         its moments  1.885480  \n",
       "2262                                     Private School  1.191115  \n",
       "2228                                  Snakes on a Plane  1.474899  \n",
       "893                                         retaliation  2.079379  \n",
       "362                                            harmless  2.022146  \n",
       "324                                           ludicrous  2.068450  \n",
       "145                                            personal  1.867686  \n",
       "1979  crummy-looking , exploitative , childishly gro...  1.580955  \n",
       "2222                                   The Road Warrior  1.649705  "
      ],
      "text/html": "<div>\n<style scoped>\n    .dataframe tbody tr th:only-of-type {\n        vertical-align: middle;\n    }\n\n    .dataframe tbody tr th {\n        vertical-align: top;\n    }\n\n    .dataframe thead th {\n        text-align: right;\n    }\n</style>\n<table border=\"1\" class=\"dataframe\">\n  <thead>\n    <tr style=\"text-align: right;\">\n      <th></th>\n      <th>entity_id</th>\n      <th>relation</th>\n      <th>value</th>\n      <th>distance</th>\n    </tr>\n  </thead>\n  <tbody>\n    <tr>\n      <th>161</th>\n      <td>m/demolition_man</td>\n      <td>is</td>\n      <td>amusing</td>\n      <td>1.947682</td>\n    </tr>\n    <tr>\n      <th>789</th>\n      <td>m/hot_tub_time_machine</td>\n      <td>features the theme</td>\n      <td>its moments</td>\n      <td>1.885480</td>\n    </tr>\n    <tr>\n      <th>2262</th>\n      <td>m/hot_tub_time_machine</td>\n      <td>features the miscellaneous theme</td>\n      <td>Private School</td>\n      <td>1.191115</td>\n    </tr>\n    <tr>\n      <th>2228</th>\n      <td>m/hot_tub_time_machine</td>\n      <td>features the miscellaneous theme</td>\n      <td>Snakes on a Plane</td>\n      <td>1.474899</td>\n    </tr>\n    <tr>\n      <th>893</th>\n      <td>m/dumb_and_dumber</td>\n      <td>features the theme</td>\n      <td>retaliation</td>\n      <td>2.079379</td>\n    </tr>\n    <tr>\n      <th>362</th>\n      <td>m/spaceballs</td>\n      <td>is</td>\n      <td>harmless</td>\n      <td>2.022146</td>\n    </tr>\n    <tr>\n      <th>324</th>\n      <td>m/demolition_man</td>\n      <td>is</td>\n      <td>ludicrous</td>\n      <td>2.068450</td>\n    </tr>\n    <tr>\n      <th>145</th>\n      <td>m/demolition_man</td>\n      <td>is</td>\n      <td>personal</td>\n      <td>1.867686</td>\n    </tr>\n    <tr>\n      <th>1979</th>\n      <td>m/hot_tub_time_machine</td>\n      <td>features the theme</td>\n      <td>crummy-looking , exploitative , childishly gro...</td>\n      <td>1.580955</td>\n    </tr>\n    <tr>\n      <th>2222</th>\n      <td>m/terminator</td>\n      <td>features the miscellaneous theme</td>\n      <td>The Road Warrior</td>\n      <td>1.649705</td>\n    </tr>\n  </tbody>\n</table>\n</div>"
     },
     "metadata": {},
     "execution_count": 6
    }
   ],
   "source": [
    "# But the method generates a lot of noise.\n",
    "random_triples = np.random.choice(range(len(fused_kg_df)), size=10)\n",
    "fused_kg_df.iloc[random_triples]"
   ]
  }
 ]
}