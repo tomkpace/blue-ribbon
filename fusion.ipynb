{
 "metadata": {
  "language_info": {
   "codemirror_mode": {
    "name": "ipython",
    "version": 3
   },
   "file_extension": ".py",
   "mimetype": "text/x-python",
   "name": "python",
   "nbconvert_exporter": "python",
   "pygments_lexer": "ipython3",
   "version": "3.7.3"
  },
  "orig_nbformat": 2,
  "kernelspec": {
   "name": "python373jvsc74a57bd063d0a0a306d17f9618fcd2df71f8943413e3c03229e5631c7d32ac919a8133cf",
   "display_name": "Python 3.7.3 64-bit ('base': conda)"
  }
 },
 "nbformat": 4,
 "nbformat_minor": 2,
 "cells": [
  {
   "cell_type": "code",
   "execution_count": 1,
   "metadata": {},
   "outputs": [],
   "source": [
    "import os\n",
    "import pandas as pd\n",
    "import dask.dataframe as dd\n",
    "from knowledge_graph_generator import KnowledgeGraphGenerator\n",
    "from fusion import TransE"
   ]
  },
  {
   "cell_type": "code",
   "execution_count": 22,
   "metadata": {},
   "outputs": [],
   "source": [
    "dask_df = dd.read_csv(\"data/relation_files/*.csv\")\n",
    "df = dask_df.compute()\n",
    "df = df.loc[df[\"entity_id\"] == \"m/spider_man_far_from_home\"]"
   ]
  },
  {
   "cell_type": "code",
   "execution_count": 25,
   "metadata": {},
   "outputs": [],
   "source": [
    "kg = KnowledgeGraphGenerator(known_data_list=[df])\n",
    "t = TransE(kg_obj=kg, n_epochs=5)"
   ]
  },
  {
   "cell_type": "code",
   "execution_count": 26,
   "metadata": {},
   "outputs": [
    {
     "output_type": "display_data",
     "data": {
      "text/plain": "HBox(children=(HTML(value=''), FloatProgress(value=0.0, max=1920.0), HTML(value='')))",
      "application/vnd.jupyter.widget-view+json": {
       "version_major": 2,
       "version_minor": 0,
       "model_id": "f1639e9d4ee747c78738ae99459b9b4c"
      }
     },
     "metadata": {}
    },
    {
     "output_type": "stream",
     "name": "stdout",
     "text": [
      "\n"
     ]
    },
    {
     "output_type": "display_data",
     "data": {
      "text/plain": "HBox(children=(HTML(value=''), FloatProgress(value=0.0, max=1920.0), HTML(value='')))",
      "application/vnd.jupyter.widget-view+json": {
       "version_major": 2,
       "version_minor": 0,
       "model_id": "2a94bdaa1f3248c69d47f6a60c977b6f"
      }
     },
     "metadata": {}
    },
    {
     "output_type": "stream",
     "name": "stdout",
     "text": [
      "\n"
     ]
    },
    {
     "output_type": "display_data",
     "data": {
      "text/plain": "HBox(children=(HTML(value=''), FloatProgress(value=0.0, max=1920.0), HTML(value='')))",
      "application/vnd.jupyter.widget-view+json": {
       "version_major": 2,
       "version_minor": 0,
       "model_id": "5e618dae976249feaa4e64cab52ad6d7"
      }
     },
     "metadata": {}
    },
    {
     "output_type": "stream",
     "name": "stdout",
     "text": [
      "\n"
     ]
    },
    {
     "output_type": "display_data",
     "data": {
      "text/plain": "HBox(children=(HTML(value=''), FloatProgress(value=0.0, max=1920.0), HTML(value='')))",
      "application/vnd.jupyter.widget-view+json": {
       "version_major": 2,
       "version_minor": 0,
       "model_id": "21766dbf9ed240f39cc9dc1e22ddc247"
      }
     },
     "metadata": {}
    },
    {
     "output_type": "stream",
     "name": "stdout",
     "text": [
      "\n"
     ]
    },
    {
     "output_type": "display_data",
     "data": {
      "text/plain": "HBox(children=(HTML(value=''), FloatProgress(value=0.0, max=1920.0), HTML(value='')))",
      "application/vnd.jupyter.widget-view+json": {
       "version_major": 2,
       "version_minor": 0,
       "model_id": "3c4043583f0342919d6f6c203ec3a260"
      }
     },
     "metadata": {}
    },
    {
     "output_type": "stream",
     "name": "stdout",
     "text": [
      "\n"
     ]
    }
   ],
   "source": [
    "t.fit()"
   ]
  },
  {
   "cell_type": "code",
   "execution_count": 30,
   "metadata": {},
   "outputs": [
    {
     "output_type": "stream",
     "name": "stdout",
     "text": [
      "features the organization\n",
      "kNN dist: tensor([[1.3262],\n",
      "        [1.6142],\n",
      "        [1.6167],\n",
      "        [1.6221],\n",
      "        [1.6318]]), words: ['m/spider_man_far_from_home', 'Peter', 'Iron Man', 'Far from Home', 'Spider-Man']\n",
      "is\n",
      "kNN dist: tensor([[1.3639],\n",
      "        [1.6219],\n",
      "        [1.6494],\n",
      "        [1.6565],\n",
      "        [1.6616]]), words: ['m/spider_man_far_from_home', 'Spider-Man', 'Peter', 'Laffy Ta', 'Spidey']\n",
      "features the person\n",
      "kNN dist: tensor([[1.3111],\n",
      "        [1.4988],\n",
      "        [1.5052],\n",
      "        [1.5067],\n",
      "        [1.5097]]), words: ['m/spider_man_far_from_home', 'Marvel Studios', 'Endgame Marvel Cinematic Universe', 'Far f', 'Spider-Man']\n",
      "features the theme\n",
      "kNN dist: tensor([[1.4483],\n",
      "        [1.6565],\n",
      "        [1.6615],\n",
      "        [1.6640],\n",
      "        [1.6649]]), words: ['m/spider_man_far_from_home', 'Marvel', 'European Vacation', 'Peter', 'Doc Ock']\n",
      "features the miscellaneous theme\n",
      "kNN dist: tensor([[1.3983],\n",
      "        [1.6489],\n",
      "        [1.6568],\n",
      "        [1.6571],\n",
      "        [1.6674]]), words: ['m/spider_man_far_from_home', 'Spider-Man', 'Iron Man', 'Spidey', 'Avengers']\n",
      "features the location\n",
      "kNN dist: tensor([[1.4015],\n",
      "        [1.7214],\n",
      "        [1.7248],\n",
      "        [1.7323],\n",
      "        [1.7350]]), words: ['m/spider_man_far_from_home', 'Marvel Studios', 'Spider-Man', 'Endgame Marvel Cinematic Universe', 'MCU']\n"
     ]
    }
   ],
   "source": [
    "for r in kg.relations:\n",
    "    print(r)\n",
    "    t.get_tail(\"m/spider_man_far_from_home\", r, 5)"
   ]
  },
  {
   "cell_type": "code",
   "execution_count": null,
   "metadata": {},
   "outputs": [],
   "source": []
  }
 ]
}