{
 "metadata": {
  "language_info": {
   "codemirror_mode": {
    "name": "ipython",
    "version": 3
   },
   "file_extension": ".py",
   "mimetype": "text/x-python",
   "name": "python",
   "nbconvert_exporter": "python",
   "pygments_lexer": "ipython3",
   "version": "3.7.3"
  },
  "orig_nbformat": 2,
  "kernelspec": {
   "name": "python37364bitbaseconda695c26050d2f45bb8896ce2b0036a0bd",
   "display_name": "Python 3.7.3 64-bit ('base': conda)"
  },
  "metadata": {
   "interpreter": {
    "hash": "63d0a0a306d17f9618fcd2df71f8943413e3c03229e5631c7d32ac919a8133cf"
   }
  }
 },
 "nbformat": 4,
 "nbformat_minor": 2,
 "cells": [
  {
   "cell_type": "code",
   "execution_count": 1,
   "metadata": {},
   "outputs": [],
   "source": [
    "import os\n",
    "import numpy as np\n",
    "import pandas as pd\n",
    "from knowledge_graph_generator import KnowledgeGraphGenerator\n",
    "from fusion import TransEFuser"
   ]
  },
  {
   "cell_type": "code",
   "execution_count": 2,
   "metadata": {},
   "outputs": [],
   "source": [
    "# TransEFuser Example:  The TransEFuser can fuse a knowledge graph\n",
    "# composed of noisy and potentially conflicting triples and generate\n",
    "# a distance for each triple where the distance is a measure of \n",
    "# how \"true\" that triple is based on the training data.  This method\n",
    "# uses a modification of the TransE translational embedding technique.\n",
    "# Example:\n",
    "# TransEFuser is instantiated with a KnowledgeGraphGenerator object.\n",
    "# Load the full knowledge graph DataFrame.\n",
    "raw_kg_df = pd.read_csv(\"data/raw_kg_df.csv\")\n",
    "# Construct a toy dataset with only AMAZING movies.\n",
    "toy_movie_list = [\n",
    "    \"m/terminator\",\n",
    "    \"m/spaceballs\",\n",
    "    \"m/dumb_and_dumber\",\n",
    "    \"m/demolition_man\",\n",
    "    \"m/hot_tub_time_machine\",\n",
    "]\n",
    "toy_df = raw_kg_df.loc[raw_kg_df[\"entity_id\"].isin(toy_movie_list)]\n",
    "kg_obj = KnowledgeGraphGenerator(known_data_list=[toy_df])\n",
    "# Instantiate the TransEFuser object.\n",
    "fuser = TransEFuser(kg_obj)\n",
    "# Fuse the knowledge graph.\n",
    "fused_kg_df = fuser.fuse()"
   ]
  },
  {
   "cell_type": "code",
   "execution_count": 3,
   "metadata": {},
   "outputs": [
    {
     "output_type": "stream",
     "name": "stdout",
     "text": [
      "                  entity_id relation    value  distance\n567  m/hot_tub_time_machine       is  lowbrow  1.619098\n566       m/dumb_and_dumber       is  lowbrow  2.046808\n\n\n         entity_id            relation               value  distance\n1880  m/terminator  features the theme  a murderous cyborg  1.916045\n"
     ]
    }
   ],
   "source": [
    "# The distance conveys how \"true\" the triple is given\n",
    "# the training data.  Certain triples seem spot on.\n",
    "print(fused_kg_df[fused_kg_df[\"value\"] == \"lowbrow\"].sort_values(\"distance\"))\n",
    "print(\"\\n\")\n",
    "print(fused_kg_df[fused_kg_df[\"value\"] == \"a murderous cyborg\"].sort_values(\"distance\"))"
   ]
  },
  {
   "cell_type": "code",
   "execution_count": 4,
   "metadata": {},
   "outputs": [
    {
     "output_type": "execute_result",
     "data": {
      "text/plain": [
       "                   entity_id            relation                       value  \\\n",
       "533         m/demolition_man                  is                      bodily   \n",
       "1723       m/dumb_and_dumber  features the theme    the days of john belushi   \n",
       "1400       m/dumb_and_dumber  features the theme       some initial struggle   \n",
       "101   m/hot_tub_time_machine                  is                       silly   \n",
       "418   m/hot_tub_time_machine                  is                     idiotic   \n",
       "1577            m/spaceballs  features the theme  the villainous dark helmet   \n",
       "111        m/dumb_and_dumber                  is                      modern   \n",
       "1050  m/hot_tub_time_machine  features the theme                high concept   \n",
       "1928  m/hot_tub_time_machine  features the theme       a cute and silly romp   \n",
       "1906  m/hot_tub_time_machine  features the theme    a platform for retro fun   \n",
       "\n",
       "      distance  \n",
       "533   1.902350  \n",
       "1723  1.923488  \n",
       "1400  1.827668  \n",
       "101   1.977551  \n",
       "418   1.774883  \n",
       "1577  2.055307  \n",
       "111   2.037160  \n",
       "1050  1.912786  \n",
       "1928  1.414594  \n",
       "1906  1.677580  "
      ],
      "text/html": "<div>\n<style scoped>\n    .dataframe tbody tr th:only-of-type {\n        vertical-align: middle;\n    }\n\n    .dataframe tbody tr th {\n        vertical-align: top;\n    }\n\n    .dataframe thead th {\n        text-align: right;\n    }\n</style>\n<table border=\"1\" class=\"dataframe\">\n  <thead>\n    <tr style=\"text-align: right;\">\n      <th></th>\n      <th>entity_id</th>\n      <th>relation</th>\n      <th>value</th>\n      <th>distance</th>\n    </tr>\n  </thead>\n  <tbody>\n    <tr>\n      <th>533</th>\n      <td>m/demolition_man</td>\n      <td>is</td>\n      <td>bodily</td>\n      <td>1.902350</td>\n    </tr>\n    <tr>\n      <th>1723</th>\n      <td>m/dumb_and_dumber</td>\n      <td>features the theme</td>\n      <td>the days of john belushi</td>\n      <td>1.923488</td>\n    </tr>\n    <tr>\n      <th>1400</th>\n      <td>m/dumb_and_dumber</td>\n      <td>features the theme</td>\n      <td>some initial struggle</td>\n      <td>1.827668</td>\n    </tr>\n    <tr>\n      <th>101</th>\n      <td>m/hot_tub_time_machine</td>\n      <td>is</td>\n      <td>silly</td>\n      <td>1.977551</td>\n    </tr>\n    <tr>\n      <th>418</th>\n      <td>m/hot_tub_time_machine</td>\n      <td>is</td>\n      <td>idiotic</td>\n      <td>1.774883</td>\n    </tr>\n    <tr>\n      <th>1577</th>\n      <td>m/spaceballs</td>\n      <td>features the theme</td>\n      <td>the villainous dark helmet</td>\n      <td>2.055307</td>\n    </tr>\n    <tr>\n      <th>111</th>\n      <td>m/dumb_and_dumber</td>\n      <td>is</td>\n      <td>modern</td>\n      <td>2.037160</td>\n    </tr>\n    <tr>\n      <th>1050</th>\n      <td>m/hot_tub_time_machine</td>\n      <td>features the theme</td>\n      <td>high concept</td>\n      <td>1.912786</td>\n    </tr>\n    <tr>\n      <th>1928</th>\n      <td>m/hot_tub_time_machine</td>\n      <td>features the theme</td>\n      <td>a cute and silly romp</td>\n      <td>1.414594</td>\n    </tr>\n    <tr>\n      <th>1906</th>\n      <td>m/hot_tub_time_machine</td>\n      <td>features the theme</td>\n      <td>a platform for retro fun</td>\n      <td>1.677580</td>\n    </tr>\n  </tbody>\n</table>\n</div>"
     },
     "metadata": {},
     "execution_count": 4
    }
   ],
   "source": [
    "# But the method generates a lot of noise.\n",
    "random_triples = np.random.choice(range(len(fused_kg_df)), size=10)\n",
    "fused_kg_df.iloc[random_triples]"
   ]
  }
 ]
}