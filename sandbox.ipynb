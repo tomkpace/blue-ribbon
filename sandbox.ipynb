{
 "metadata": {
  "language_info": {
   "codemirror_mode": {
    "name": "ipython",
    "version": 3
   },
   "file_extension": ".py",
   "mimetype": "text/x-python",
   "name": "python",
   "nbconvert_exporter": "python",
   "pygments_lexer": "ipython3",
   "version": "3.7.3"
  },
  "orig_nbformat": 2,
  "kernelspec": {
   "name": "python3",
   "display_name": "Python 3.7.3 64-bit ('base': conda)",
   "metadata": {
    "interpreter": {
     "hash": "63d0a0a306d17f9618fcd2df71f8943413e3c03229e5631c7d32ac919a8133cf"
    }
   }
  }
 },
 "nbformat": 4,
 "nbformat_minor": 2,
 "cells": [
  {
   "cell_type": "code",
   "execution_count": 15,
   "metadata": {},
   "outputs": [],
   "source": [
    "import os\n",
    "import numpy as np\n",
    "import pandas as pd"
   ]
  },
  {
   "cell_type": "code",
   "execution_count": 30,
   "metadata": {},
   "outputs": [],
   "source": [
    "movie_data = pd.read_csv(\"raw_data/movie_data.csv\")"
   ]
  },
  {
   "cell_type": "code",
   "execution_count": 31,
   "metadata": {},
   "outputs": [],
   "source": [
    "\"\"\"\n",
    "I noticed that there were duplicate entries for certain \n",
    "movies that were released in separate origins.  This \n",
    "removes those duplicates so we can use the rotten_tomatoes_link\n",
    "as the primary index of the data.\n",
    "\"\"\"\n",
    "duplicates = movie_data.groupby(\"rotten_tomatoes_link\").count() \\\n",
    "    .loc[np.any(movie_data.groupby(\"rotten_tomatoes_link\") \\\n",
    "    .count() > 1, axis=1)].index\n",
    "\n",
    "dup_indices = movie_data.loc[(movie_data[\"rotten_tomatoes_link\"].isin(duplicates)) & \\\n",
    "    (movie_data[\"Origin/Ethnicity\"] != \"American\")].index\n",
    "\n",
    "movie_data = movie_data.loc[~movie_data.index.isin(dup_indices)].reset_index(drop=True)"
   ]
  },
  {
   "cell_type": "code",
   "execution_count": 32,
   "metadata": {},
   "outputs": [],
   "source": [
    "def explode_column(input_df, column_name, new_column_name):\n",
    "    \"\"\"\n",
    "    Function that will expand the string columns that have \n",
    "    values separated by commas.\n",
    "    \"\"\"\n",
    "    df = input_df.copy(deep=True)\n",
    "    exploded_df = df[column_name].astype(str) \\\n",
    "        .apply(lambda x: x.split(\",\")).explode() \\\n",
    "        .to_frame().rename(columns={column_name: new_column_name})\n",
    "    df = df.merge(exploded_df[[new_column_name]], left_index=True, right_index=True)\n",
    "    return df"
   ]
  },
  {
   "cell_type": "code",
   "execution_count": 38,
   "metadata": {},
   "outputs": [],
   "source": [
    "explode_columns = {\n",
    "    \"genres\": \"genre\",\n",
    "    \"directors\": \"director\",\n",
    "    \"authors\": \"author\",\n",
    "    \"actors\": \"actor\"\n",
    "}\n",
    "\n",
    "exploded_dfs = {}\n",
    "for c in explode_columns.keys():\n",
    "    exploded_dfs[c] = explode_column(movie_data, c, explode_columns[c])\n",
    "for c in exploded_dfs.keys():\n",
    "    movie_data = movie_data.merge(\n",
    "        exploded_dfs[c][[explode_columns[c]]], left_index=True, right_index=True\n",
    "    )"
   ]
  },
  {
   "cell_type": "code",
   "execution_count": 41,
   "metadata": {},
   "outputs": [],
   "source": [
    "relation_dict = {\n",
    "    \"Title\":\"hasTitle\",\n",
    "    \"director\":\"directedBy\",\n",
    "    \"author\":\"authoredBy\",\n",
    "    \"actor\":\"featuredActor\",\n",
    "    \"genre\":\"hadGenre\",\n",
    "    \"Release Year\":\"releasedOn\",\n",
    "    \"production_company\":\"producedBy\",\n",
    "}\n",
    "relations = []\n",
    "for r in relation_dict:\n",
    "    relations.append(relation_dict[r])"
   ]
  },
  {
   "cell_type": "code",
   "execution_count": 44,
   "metadata": {},
   "outputs": [],
   "source": [
    "tabular_df = movie_data.rename(columns=relation_dict)[relations] \\\n",
    "    .drop_duplicates() \\\n",
    "    .reset_index(drop=True)"
   ]
  },
  {
   "cell_type": "code",
   "execution_count": 45,
   "metadata": {},
   "outputs": [
    {
     "output_type": "execute_result",
     "data": {
      "text/plain": [
       "                                                  hasTitle       directedBy  \\\n",
       "0        Percy Jackson & the Olympians: The Lightning T...   Chris Columbus   \n",
       "1        Percy Jackson & the Olympians: The Lightning T...   Chris Columbus   \n",
       "2        Percy Jackson & the Olympians: The Lightning T...   Chris Columbus   \n",
       "3        Percy Jackson & the Olympians: The Lightning T...   Chris Columbus   \n",
       "4        Percy Jackson & the Olympians: The Lightning T...   Chris Columbus   \n",
       "...                                                    ...              ...   \n",
       "1323229                                               Zulu   Cyril Endfield   \n",
       "1323230                                               Zulu   Cyril Endfield   \n",
       "1323231                                               Zulu   Cyril Endfield   \n",
       "1323232                                               Zulu   Cyril Endfield   \n",
       "1323233                                               Zulu   Cyril Endfield   \n",
       "\n",
       "            authoredBy        featuredActor            hadGenre  releasedOn  \\\n",
       "0         Craig Titley         Logan Lerman  Action & Adventure        2010   \n",
       "1         Craig Titley   Brandon T. Jackson  Action & Adventure        2010   \n",
       "2         Craig Titley   Alexandra Daddario  Action & Adventure        2010   \n",
       "3         Craig Titley            Jake Abel  Action & Adventure        2010   \n",
       "4         Craig Titley            Sean Bean  Action & Adventure        2010   \n",
       "...                ...                  ...                 ...         ...   \n",
       "1323229   John Prebble    Daniel Tshabalala               Drama        1964   \n",
       "1323230   John Prebble       Ephraim Mbhele               Drama        1964   \n",
       "1323231   John Prebble         Simon Sabela               Drama        1964   \n",
       "1323232   John Prebble         David Kerman               Drama        1964   \n",
       "1323233   John Prebble       Richard Burton               Drama        1964   \n",
       "\n",
       "                 producedBy  \n",
       "0          20th Century Fox  \n",
       "1          20th Century Fox  \n",
       "2          20th Century Fox  \n",
       "3          20th Century Fox  \n",
       "4          20th Century Fox  \n",
       "...                     ...  \n",
       "1323229  Paramount Pictures  \n",
       "1323230  Paramount Pictures  \n",
       "1323231  Paramount Pictures  \n",
       "1323232  Paramount Pictures  \n",
       "1323233  Paramount Pictures  \n",
       "\n",
       "[1323234 rows x 7 columns]"
      ],
      "text/html": "<div>\n<style scoped>\n    .dataframe tbody tr th:only-of-type {\n        vertical-align: middle;\n    }\n\n    .dataframe tbody tr th {\n        vertical-align: top;\n    }\n\n    .dataframe thead th {\n        text-align: right;\n    }\n</style>\n<table border=\"1\" class=\"dataframe\">\n  <thead>\n    <tr style=\"text-align: right;\">\n      <th></th>\n      <th>hasTitle</th>\n      <th>directedBy</th>\n      <th>authoredBy</th>\n      <th>featuredActor</th>\n      <th>hadGenre</th>\n      <th>releasedOn</th>\n      <th>producedBy</th>\n    </tr>\n  </thead>\n  <tbody>\n    <tr>\n      <th>0</th>\n      <td>Percy Jackson &amp; the Olympians: The Lightning T...</td>\n      <td>Chris Columbus</td>\n      <td>Craig Titley</td>\n      <td>Logan Lerman</td>\n      <td>Action &amp; Adventure</td>\n      <td>2010</td>\n      <td>20th Century Fox</td>\n    </tr>\n    <tr>\n      <th>1</th>\n      <td>Percy Jackson &amp; the Olympians: The Lightning T...</td>\n      <td>Chris Columbus</td>\n      <td>Craig Titley</td>\n      <td>Brandon T. Jackson</td>\n      <td>Action &amp; Adventure</td>\n      <td>2010</td>\n      <td>20th Century Fox</td>\n    </tr>\n    <tr>\n      <th>2</th>\n      <td>Percy Jackson &amp; the Olympians: The Lightning T...</td>\n      <td>Chris Columbus</td>\n      <td>Craig Titley</td>\n      <td>Alexandra Daddario</td>\n      <td>Action &amp; Adventure</td>\n      <td>2010</td>\n      <td>20th Century Fox</td>\n    </tr>\n    <tr>\n      <th>3</th>\n      <td>Percy Jackson &amp; the Olympians: The Lightning T...</td>\n      <td>Chris Columbus</td>\n      <td>Craig Titley</td>\n      <td>Jake Abel</td>\n      <td>Action &amp; Adventure</td>\n      <td>2010</td>\n      <td>20th Century Fox</td>\n    </tr>\n    <tr>\n      <th>4</th>\n      <td>Percy Jackson &amp; the Olympians: The Lightning T...</td>\n      <td>Chris Columbus</td>\n      <td>Craig Titley</td>\n      <td>Sean Bean</td>\n      <td>Action &amp; Adventure</td>\n      <td>2010</td>\n      <td>20th Century Fox</td>\n    </tr>\n    <tr>\n      <th>...</th>\n      <td>...</td>\n      <td>...</td>\n      <td>...</td>\n      <td>...</td>\n      <td>...</td>\n      <td>...</td>\n      <td>...</td>\n    </tr>\n    <tr>\n      <th>1323229</th>\n      <td>Zulu</td>\n      <td>Cyril Endfield</td>\n      <td>John Prebble</td>\n      <td>Daniel Tshabalala</td>\n      <td>Drama</td>\n      <td>1964</td>\n      <td>Paramount Pictures</td>\n    </tr>\n    <tr>\n      <th>1323230</th>\n      <td>Zulu</td>\n      <td>Cyril Endfield</td>\n      <td>John Prebble</td>\n      <td>Ephraim Mbhele</td>\n      <td>Drama</td>\n      <td>1964</td>\n      <td>Paramount Pictures</td>\n    </tr>\n    <tr>\n      <th>1323231</th>\n      <td>Zulu</td>\n      <td>Cyril Endfield</td>\n      <td>John Prebble</td>\n      <td>Simon Sabela</td>\n      <td>Drama</td>\n      <td>1964</td>\n      <td>Paramount Pictures</td>\n    </tr>\n    <tr>\n      <th>1323232</th>\n      <td>Zulu</td>\n      <td>Cyril Endfield</td>\n      <td>John Prebble</td>\n      <td>David Kerman</td>\n      <td>Drama</td>\n      <td>1964</td>\n      <td>Paramount Pictures</td>\n    </tr>\n    <tr>\n      <th>1323233</th>\n      <td>Zulu</td>\n      <td>Cyril Endfield</td>\n      <td>John Prebble</td>\n      <td>Richard Burton</td>\n      <td>Drama</td>\n      <td>1964</td>\n      <td>Paramount Pictures</td>\n    </tr>\n  </tbody>\n</table>\n<p>1323234 rows × 7 columns</p>\n</div>"
     },
     "metadata": {},
     "execution_count": 45
    }
   ],
   "source": [
    "tabular_df"
   ]
  }
 ]
}